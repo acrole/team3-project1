{
 "cells": [
  {
   "cell_type": "code",
   "execution_count": 1,
   "metadata": {},
   "outputs": [],
   "source": [
    "import pandas as pd\n",
    "import csv\n",
    "\n",
    "path=\"C://Users//oorte//Documents//RICE-CLASS-MATERIAL//team3//YK_TX2017-19_Accidents.csv\"\n",
    "traffic_df = pd.read_csv(path)"
   ]
  },
  {
   "cell_type": "code",
   "execution_count": 2,
   "metadata": {},
   "outputs": [],
   "source": [
    "#import Dependencies\n",
    "import time \n",
    "import datetime\n",
    "import numpy as np\n",
    "from datetime import date"
   ]
  },
  {
   "cell_type": "code",
   "execution_count": 3,
   "metadata": {},
   "outputs": [],
   "source": [
    "# Read strings representing Start and End of accident\n",
    "date_start=traffic_df[\"Start_Time\"]\n",
    "date_end=traffic_df[\"End_Time\"]\n"
   ]
  },
  {
   "cell_type": "code",
   "execution_count": 4,
   "metadata": {},
   "outputs": [],
   "source": [
    "#convert string of characters to datetime object\n",
    "traffic_df['start']=pd.DataFrame(pd.to_datetime(date_start, format='%Y-%m-%d %H:%M:%S'))\n",
    "traffic_df['end']=pd.DataFrame(pd.to_datetime(date_end, format='%Y-%m-%d %H:%M:%S'))\n",
    "dfa = pd.DataFrame(traffic_df['start'])\n",
    "dfb = pd.DataFrame(traffic_df['end'])\n",
    "#b= traffic_df.columns.get_loc('start')\n"
   ]
  },
  {
   "cell_type": "code",
   "execution_count": 5,
   "metadata": {},
   "outputs": [],
   "source": [
    "traffic_df['tss'] = dfa.iloc[:].apply(lambda x: x['start'].timestamp(), axis=1).astype(int)\n",
    "traffic_df['tse'] = dfb.iloc[:].apply(lambda x: x['end'].timestamp(), axis=1).astype(int)"
   ]
  },
  {
   "cell_type": "code",
   "execution_count": 6,
   "metadata": {},
   "outputs": [],
   "source": [
    "#create additional columns with datetime object split\n",
    "traffic_df['year_start'] = pd.DatetimeIndex(traffic_df['start']).year\n",
    "traffic_df['year_end'] = pd.DatetimeIndex(traffic_df['end']).year\n",
    "\n",
    "traffic_df['month_start'] = pd.DatetimeIndex(traffic_df['start']).month\n",
    "traffic_df['month_end'] = pd.DatetimeIndex(traffic_df['end']).month\n",
    "\n",
    "traffic_df['day_start'] = pd.DatetimeIndex(traffic_df['start']).day\n",
    "traffic_df['day_end'] = pd.DatetimeIndex(traffic_df['end']).day\n",
    "\n",
    "traffic_df['time_start'] = pd.DatetimeIndex(traffic_df['start']).time\n",
    "traffic_df['time_end'] = pd.DatetimeIndex(traffic_df['end']).time\n"
   ]
  },
  {
   "cell_type": "code",
   "execution_count": 7,
   "metadata": {},
   "outputs": [],
   "source": [
    "#create additional columns for hour, minutes, seconds\n",
    "traffic_df['h_start'] = pd.DatetimeIndex(traffic_df['start']).hour\n",
    "traffic_df['h_end'] = pd.DatetimeIndex(traffic_df['end']).hour\n",
    "\n",
    "traffic_df['m_start'] = pd.DatetimeIndex(traffic_df['start']).minute\n",
    "traffic_df['m_end'] = pd.DatetimeIndex(traffic_df['end']).minute\n",
    "\n",
    "traffic_df['s_start'] = pd.DatetimeIndex(traffic_df['start']).second\n",
    "traffic_df['s_end'] = pd.DatetimeIndex(traffic_df['end']).second\n"
   ]
  },
  {
   "cell_type": "code",
   "execution_count": 8,
   "metadata": {},
   "outputs": [],
   "source": [
    "#calculate accident duration\n",
    "traffic_df[\"sec_start\"]=traffic_df['h_start']*60*60+traffic_df['m_start']*60+traffic_df['s_start']*1\n",
    "traffic_df[\"sec_end\"]=traffic_df['h_end']*60*60+traffic_df['m_end']*60+traffic_df['s_end']*1"
   ]
  },
  {
   "cell_type": "code",
   "execution_count": 9,
   "metadata": {},
   "outputs": [
    {
     "data": {
      "text/plain": [
       "0         3581\n",
       "1         3588\n",
       "2         3643\n",
       "3         3947\n",
       "4         3572\n",
       "          ... \n",
       "248293    1749\n",
       "248294    1773\n",
       "248295    1780\n",
       "248296    1646\n",
       "248297    1794\n",
       "Name: duration, Length: 248298, dtype: int32"
      ]
     },
     "execution_count": 9,
     "metadata": {},
     "output_type": "execute_result"
    }
   ],
   "source": [
    "#if traffic_df[\"sec_end\"]-traffic_df[\"sec_start\"] > 0:\n",
    "traffic_df[\"duration\"]=traffic_df['tse']-traffic_df['tss']\n",
    "#traffic_df[\"duration\"]traffic_df[\"duration\"] = np.where(traffic_df[\"sec_end\"] > traffic_df[\"sec_start\"], timespan,\"\")\n",
    "traffic_df[\"duration\"]                     \n"
   ]
  },
  {
   "cell_type": "code",
   "execution_count": 10,
   "metadata": {},
   "outputs": [],
   "source": [
    "#add additional columns needed for seasons determinations\n",
    "traffic_df['season_start']=traffic_df['month_start']\n",
    "traffic_df['season_end']=traffic_df['month_end']"
   ]
  },
  {
   "cell_type": "code",
   "execution_count": 11,
   "metadata": {},
   "outputs": [],
   "source": [
    "#Determine the day of the week\n",
    "traffic_df['day_of_week'] = traffic_df['start'].dt.day_name()\n"
   ]
  },
  {
   "cell_type": "code",
   "execution_count": 12,
   "metadata": {},
   "outputs": [],
   "source": [
    "#seasons definitions (by month)\n",
    "traffic_df.loc[traffic_df.season_start == 1, \"season_start\"] = \"winter\"\n",
    "traffic_df.loc[traffic_df.season_start == 2, \"season_start\"] = \"winter\"\n",
    "traffic_df.loc[traffic_df.season_start == 12, \"season_start\"] = \"winter\"\n",
    "traffic_df.loc[traffic_df.season_start == 3, \"season_start\"] = \"spring\"\n",
    "traffic_df.loc[traffic_df.season_start == 4, \"season_start\"] = \"spring\"\n",
    "traffic_df.loc[traffic_df.season_start == 5, \"season_start\"] = \"spring\"\n",
    "traffic_df.loc[traffic_df.season_start == 6, \"season_start\"] = \"summer\"\n",
    "traffic_df.loc[traffic_df.season_start == 7, \"season_start\"] = \"summer\"\n",
    "traffic_df.loc[traffic_df.season_start == 8, \"season_start\"] = \"summer\"\n",
    "traffic_df.loc[traffic_df.season_start == 9, \"season_start\"] = \"fall\"\n",
    "traffic_df.loc[traffic_df.season_start == 10, \"season_start\"] = \"fall\"\n",
    "traffic_df.loc[traffic_df.season_start == 11, \"season_start\"] = \"fall\""
   ]
  },
  {
   "cell_type": "code",
   "execution_count": 13,
   "metadata": {},
   "outputs": [
    {
     "data": {
      "text/html": [
       "<div>\n",
       "<style scoped>\n",
       "    .dataframe tbody tr th:only-of-type {\n",
       "        vertical-align: middle;\n",
       "    }\n",
       "\n",
       "    .dataframe tbody tr th {\n",
       "        vertical-align: top;\n",
       "    }\n",
       "\n",
       "    .dataframe thead th {\n",
       "        text-align: right;\n",
       "    }\n",
       "</style>\n",
       "<table border=\"1\" class=\"dataframe\">\n",
       "  <thead>\n",
       "    <tr style=\"text-align: right;\">\n",
       "      <th></th>\n",
       "      <th>season_start</th>\n",
       "      <th>count</th>\n",
       "    </tr>\n",
       "  </thead>\n",
       "  <tbody>\n",
       "    <tr>\n",
       "      <th>0</th>\n",
       "      <td>fall</td>\n",
       "      <td>64670</td>\n",
       "    </tr>\n",
       "    <tr>\n",
       "      <th>1</th>\n",
       "      <td>spring</td>\n",
       "      <td>61900</td>\n",
       "    </tr>\n",
       "    <tr>\n",
       "      <th>2</th>\n",
       "      <td>summer</td>\n",
       "      <td>58544</td>\n",
       "    </tr>\n",
       "    <tr>\n",
       "      <th>3</th>\n",
       "      <td>winter</td>\n",
       "      <td>63184</td>\n",
       "    </tr>\n",
       "  </tbody>\n",
       "</table>\n",
       "</div>"
      ],
      "text/plain": [
       "  season_start  count\n",
       "0         fall  64670\n",
       "1       spring  61900\n",
       "2       summer  58544\n",
       "3       winter  63184"
      ]
     },
     "execution_count": 13,
     "metadata": {},
     "output_type": "execute_result"
    }
   ],
   "source": [
    "#Group dataframe according to season\n",
    "seasons_accidents_df=pd.DataFrame((pd.DataFrame(traffic_df.groupby(['season_start']).count())).iloc[:,1])\n",
    "seasons_accidents_df.columns=['count']\n",
    "\n",
    "seasons_accidents_df.reset_index()\n"
   ]
  },
  {
   "cell_type": "code",
   "execution_count": 14,
   "metadata": {},
   "outputs": [],
   "source": [
    "import matplotlib.pyplot as plt"
   ]
  },
  {
   "cell_type": "code",
   "execution_count": 15,
   "metadata": {},
   "outputs": [
    {
     "data": {
      "image/png": "[encoded data removed]",
      "text/plain": [
       "<Figure size 432x288 with 1 Axes>"
      ]
     },
     "metadata": {
      "needs_background": "light"
     },
     "output_type": "display_data"
    }
   ],
   "source": [
    "# Generate a bar plot showing the total number of accidents per season.\n",
    "\n",
    "fig = plt.figure()\n",
    "ax = fig.add_axes([0,0,1,1])\n",
    "seasons = ['summer', 'winter']\n",
    "count = [seasons_accidents_df['count'][2],seasons_accidents_df['count'][3]]\n",
    "ax.bar(seasons,count)\n",
    "plt.bar(seasons, count, color='green')\n",
    "plt.xlabel(\"Seasons\")\n",
    "plt.ylabel(\"count\")\n",
    "plt.title(\"Number of Accidents per Season\")\n",
    "plt.show()"
   ]
  },
  {
   "cell_type": "code",
   "execution_count": 16,
   "metadata": {},
   "outputs": [
    {
     "data": {
      "text/html": [
       "<div>\n",
       "<style scoped>\n",
       "    .dataframe tbody tr th:only-of-type {\n",
       "        vertical-align: middle;\n",
       "    }\n",
       "\n",
       "    .dataframe tbody tr th {\n",
       "        vertical-align: top;\n",
       "    }\n",
       "\n",
       "    .dataframe thead th {\n",
       "        text-align: right;\n",
       "    }\n",
       "</style>\n",
       "<table border=\"1\" class=\"dataframe\">\n",
       "  <thead>\n",
       "    <tr style=\"text-align: right;\">\n",
       "      <th></th>\n",
       "      <th>month_start</th>\n",
       "      <th>count</th>\n",
       "    </tr>\n",
       "  </thead>\n",
       "  <tbody>\n",
       "    <tr>\n",
       "      <th>0</th>\n",
       "      <td>1</td>\n",
       "      <td>22089</td>\n",
       "    </tr>\n",
       "    <tr>\n",
       "      <th>1</th>\n",
       "      <td>2</td>\n",
       "      <td>20987</td>\n",
       "    </tr>\n",
       "    <tr>\n",
       "      <th>2</th>\n",
       "      <td>3</td>\n",
       "      <td>21363</td>\n",
       "    </tr>\n",
       "    <tr>\n",
       "      <th>3</th>\n",
       "      <td>4</td>\n",
       "      <td>21259</td>\n",
       "    </tr>\n",
       "    <tr>\n",
       "      <th>4</th>\n",
       "      <td>5</td>\n",
       "      <td>19278</td>\n",
       "    </tr>\n",
       "    <tr>\n",
       "      <th>5</th>\n",
       "      <td>6</td>\n",
       "      <td>18501</td>\n",
       "    </tr>\n",
       "    <tr>\n",
       "      <th>6</th>\n",
       "      <td>7</td>\n",
       "      <td>18004</td>\n",
       "    </tr>\n",
       "    <tr>\n",
       "      <th>7</th>\n",
       "      <td>8</td>\n",
       "      <td>22039</td>\n",
       "    </tr>\n",
       "    <tr>\n",
       "      <th>8</th>\n",
       "      <td>9</td>\n",
       "      <td>20411</td>\n",
       "    </tr>\n",
       "    <tr>\n",
       "      <th>9</th>\n",
       "      <td>10</td>\n",
       "      <td>23316</td>\n",
       "    </tr>\n",
       "    <tr>\n",
       "      <th>10</th>\n",
       "      <td>11</td>\n",
       "      <td>20943</td>\n",
       "    </tr>\n",
       "    <tr>\n",
       "      <th>11</th>\n",
       "      <td>12</td>\n",
       "      <td>20108</td>\n",
       "    </tr>\n",
       "  </tbody>\n",
       "</table>\n",
       "</div>"
      ],
      "text/plain": [
       "    month_start  count\n",
       "0             1  22089\n",
       "1             2  20987\n",
       "2             3  21363\n",
       "3             4  21259\n",
       "4             5  19278\n",
       "5             6  18501\n",
       "6             7  18004\n",
       "7             8  22039\n",
       "8             9  20411\n",
       "9            10  23316\n",
       "10           11  20943\n",
       "11           12  20108"
      ]
     },
     "execution_count": 16,
     "metadata": {},
     "output_type": "execute_result"
    }
   ],
   "source": [
    "month_accidents_df=pd.DataFrame((pd.DataFrame(traffic_df.groupby(['month_start']).count())).iloc[:,1])\n",
    "month_accidents_df.columns=['count']\n",
    "month_accidents_df.reset_index()"
   ]
  },
  {
   "cell_type": "code",
   "execution_count": 17,
   "metadata": {},
   "outputs": [
    {
     "data": {
      "image/png": "[encoded data removed]",
      "text/plain": [
       "<Figure size 432x288 with 1 Axes>"
      ]
     },
     "metadata": {
      "needs_background": "light"
     },
     "output_type": "display_data"
    }
   ],
   "source": [
    "# Generate a bar plot showing the total number of accidents per month.\n",
    "\n",
    "fig1 = plt.figure()\n",
    "ax = fig1.add_axes([0,0,1,1])\n",
    "Month = ['January','February','March','April','May','June','July','August','September','October','November','December']\n",
    "count = month_accidents_df['count']\n",
    "ax.bar(Month,count)\n",
    "plt.bar(Month, count, color='orange')\n",
    "plt.xticks(rotation=90)\n",
    "plt.xlabel(\"Month of the year\")\n",
    "plt.ylabel(\"count\")\n",
    "plt.title(\"Number of Accidents per month of the year\")\n",
    "plt.show()"
   ]
  },
  {
   "cell_type": "code",
   "execution_count": 18,
   "metadata": {},
   "outputs": [
    {
     "data": {
      "text/plain": [
       "day_of_week\n",
       "Friday       46231\n",
       "Monday       44206\n",
       "Saturday     11269\n",
       "Sunday        9259\n",
       "Thursday     44592\n",
       "Tuesday      46691\n",
       "Wednesday    46050\n",
       "Name: count, dtype: int64"
      ]
     },
     "execution_count": 18,
     "metadata": {},
     "output_type": "execute_result"
    }
   ],
   "source": [
    "#Group dataframe according to day of the week\n",
    "wday_accidents_df=pd.DataFrame((pd.DataFrame(traffic_df.groupby(['day_of_week']).count())).iloc[:,1])\n",
    "wday_accidents_df.columns=['count']\n",
    "wday_accidents_df.reset_index()\n",
    "wday_accidents_df['count']"
   ]
  },
  {
   "cell_type": "code",
   "execution_count": 19,
   "metadata": {},
   "outputs": [
    {
     "data": {
      "image/png": "[encoded data removed]",
      "text/plain": [
       "<Figure size 432x288 with 1 Axes>"
      ]
     },
     "metadata": {
      "needs_background": "light"
     },
     "output_type": "display_data"
    }
   ],
   "source": [
    "# Generate a bar plot showing the total number of accidents per day of the week.\n",
    "\n",
    "fig2 = plt.figure()\n",
    "ax = fig2.add_axes([0,0,1,1])\n",
    "Day_of_Week = wday_accidents_df.index.tolist()\n",
    "count = wday_accidents_df['count']\n",
    "ax.bar(Day_of_Week,count)\n",
    "plt.bar(Day_of_Week, count, color='brown')\n",
    "plt.xlabel(\"Day of the week\")\n",
    "plt.ylabel(\"count\")\n",
    "plt.title(\"Number of Accidents per day of the week\")\n",
    "plt.show()"
   ]
  },
  {
   "cell_type": "code",
   "execution_count": 20,
   "metadata": {},
   "outputs": [
    {
     "data": {
      "text/html": [
       "<div>\n",
       "<style scoped>\n",
       "    .dataframe tbody tr th:only-of-type {\n",
       "        vertical-align: middle;\n",
       "    }\n",
       "\n",
       "    .dataframe tbody tr th {\n",
       "        vertical-align: top;\n",
       "    }\n",
       "\n",
       "    .dataframe thead th {\n",
       "        text-align: right;\n",
       "    }\n",
       "</style>\n",
       "<table border=\"1\" class=\"dataframe\">\n",
       "  <thead>\n",
       "    <tr style=\"text-align: right;\">\n",
       "      <th></th>\n",
       "      <th>Unnamed: 0</th>\n",
       "      <th>ID</th>\n",
       "      <th>Source</th>\n",
       "      <th>TMC</th>\n",
       "      <th>Severity</th>\n",
       "      <th>Start_Time</th>\n",
       "      <th>End_Time</th>\n",
       "      <th>Start_Lat</th>\n",
       "      <th>Start_Lng</th>\n",
       "      <th>End_Lat</th>\n",
       "      <th>...</th>\n",
       "      <th>m_start</th>\n",
       "      <th>m_end</th>\n",
       "      <th>s_start</th>\n",
       "      <th>s_end</th>\n",
       "      <th>sec_start</th>\n",
       "      <th>sec_end</th>\n",
       "      <th>duration</th>\n",
       "      <th>season_start</th>\n",
       "      <th>season_end</th>\n",
       "      <th>day_of_week</th>\n",
       "    </tr>\n",
       "  </thead>\n",
       "  <tbody>\n",
       "    <tr>\n",
       "      <th>0</th>\n",
       "      <td>267710</td>\n",
       "      <td>A-267712</td>\n",
       "      <td>MapQuest</td>\n",
       "      <td>201.0</td>\n",
       "      <td>2</td>\n",
       "      <td>2017-01-02 14:40:12</td>\n",
       "      <td>2017-01-02 15:39:53</td>\n",
       "      <td>30.393579</td>\n",
       "      <td>-97.745979</td>\n",
       "      <td>NaN</td>\n",
       "      <td>...</td>\n",
       "      <td>40</td>\n",
       "      <td>39</td>\n",
       "      <td>12</td>\n",
       "      <td>53</td>\n",
       "      <td>52812</td>\n",
       "      <td>56393</td>\n",
       "      <td>3581</td>\n",
       "      <td>winter</td>\n",
       "      <td>1</td>\n",
       "      <td>Monday</td>\n",
       "    </tr>\n",
       "    <tr>\n",
       "      <th>1</th>\n",
       "      <td>267711</td>\n",
       "      <td>A-267713</td>\n",
       "      <td>MapQuest</td>\n",
       "      <td>201.0</td>\n",
       "      <td>2</td>\n",
       "      <td>2017-01-02 14:28:48</td>\n",
       "      <td>2017-01-02 15:28:36</td>\n",
       "      <td>30.256216</td>\n",
       "      <td>-97.722038</td>\n",
       "      <td>NaN</td>\n",
       "      <td>...</td>\n",
       "      <td>28</td>\n",
       "      <td>28</td>\n",
       "      <td>48</td>\n",
       "      <td>36</td>\n",
       "      <td>52128</td>\n",
       "      <td>55716</td>\n",
       "      <td>3588</td>\n",
       "      <td>winter</td>\n",
       "      <td>1</td>\n",
       "      <td>Monday</td>\n",
       "    </tr>\n",
       "    <tr>\n",
       "      <th>2</th>\n",
       "      <td>267712</td>\n",
       "      <td>A-267714</td>\n",
       "      <td>MapQuest</td>\n",
       "      <td>201.0</td>\n",
       "      <td>2</td>\n",
       "      <td>2017-01-02 14:04:17</td>\n",
       "      <td>2017-01-02 15:05:00</td>\n",
       "      <td>30.418287</td>\n",
       "      <td>-97.700874</td>\n",
       "      <td>NaN</td>\n",
       "      <td>...</td>\n",
       "      <td>4</td>\n",
       "      <td>5</td>\n",
       "      <td>17</td>\n",
       "      <td>0</td>\n",
       "      <td>50657</td>\n",
       "      <td>54300</td>\n",
       "      <td>3643</td>\n",
       "      <td>winter</td>\n",
       "      <td>1</td>\n",
       "      <td>Monday</td>\n",
       "    </tr>\n",
       "    <tr>\n",
       "      <th>3</th>\n",
       "      <td>267713</td>\n",
       "      <td>A-267715</td>\n",
       "      <td>MapQuest</td>\n",
       "      <td>201.0</td>\n",
       "      <td>2</td>\n",
       "      <td>2017-01-02 14:29:13</td>\n",
       "      <td>2017-01-02 15:35:00</td>\n",
       "      <td>30.237938</td>\n",
       "      <td>-97.696167</td>\n",
       "      <td>NaN</td>\n",
       "      <td>...</td>\n",
       "      <td>29</td>\n",
       "      <td>35</td>\n",
       "      <td>13</td>\n",
       "      <td>0</td>\n",
       "      <td>52153</td>\n",
       "      <td>56100</td>\n",
       "      <td>3947</td>\n",
       "      <td>winter</td>\n",
       "      <td>1</td>\n",
       "      <td>Monday</td>\n",
       "    </tr>\n",
       "    <tr>\n",
       "      <th>4</th>\n",
       "      <td>267714</td>\n",
       "      <td>A-267716</td>\n",
       "      <td>MapQuest</td>\n",
       "      <td>201.0</td>\n",
       "      <td>2</td>\n",
       "      <td>2017-01-02 14:40:51</td>\n",
       "      <td>2017-01-02 15:40:23</td>\n",
       "      <td>30.364882</td>\n",
       "      <td>-97.695992</td>\n",
       "      <td>NaN</td>\n",
       "      <td>...</td>\n",
       "      <td>40</td>\n",
       "      <td>40</td>\n",
       "      <td>51</td>\n",
       "      <td>23</td>\n",
       "      <td>52851</td>\n",
       "      <td>56423</td>\n",
       "      <td>3572</td>\n",
       "      <td>winter</td>\n",
       "      <td>1</td>\n",
       "      <td>Monday</td>\n",
       "    </tr>\n",
       "  </tbody>\n",
       "</table>\n",
       "<p>5 rows × 75 columns</p>\n",
       "</div>"
      ],
      "text/plain": [
       "   Unnamed: 0        ID    Source    TMC  Severity           Start_Time  \\\n",
       "0      267710  A-267712  MapQuest  201.0         2  2017-01-02 14:40:12   \n",
       "1      267711  A-267713  MapQuest  201.0         2  2017-01-02 14:28:48   \n",
       "2      267712  A-267714  MapQuest  201.0         2  2017-01-02 14:04:17   \n",
       "3      267713  A-267715  MapQuest  201.0         2  2017-01-02 14:29:13   \n",
       "4      267714  A-267716  MapQuest  201.0         2  2017-01-02 14:40:51   \n",
       "\n",
       "              End_Time  Start_Lat  Start_Lng  End_Lat  ...  m_start  m_end  \\\n",
       "0  2017-01-02 15:39:53  30.393579 -97.745979      NaN  ...       40     39   \n",
       "1  2017-01-02 15:28:36  30.256216 -97.722038      NaN  ...       28     28   \n",
       "2  2017-01-02 15:05:00  30.418287 -97.700874      NaN  ...        4      5   \n",
       "3  2017-01-02 15:35:00  30.237938 -97.696167      NaN  ...       29     35   \n",
       "4  2017-01-02 15:40:23  30.364882 -97.695992      NaN  ...       40     40   \n",
       "\n",
       "  s_start  s_end sec_start sec_end duration season_start season_end  \\\n",
       "0      12     53     52812   56393     3581       winter          1   \n",
       "1      48     36     52128   55716     3588       winter          1   \n",
       "2      17      0     50657   54300     3643       winter          1   \n",
       "3      13      0     52153   56100     3947       winter          1   \n",
       "4      51     23     52851   56423     3572       winter          1   \n",
       "\n",
       "  day_of_week  \n",
       "0      Monday  \n",
       "1      Monday  \n",
       "2      Monday  \n",
       "3      Monday  \n",
       "4      Monday  \n",
       "\n",
       "[5 rows x 75 columns]"
      ]
     },
     "execution_count": 20,
     "metadata": {},
     "output_type": "execute_result"
    }
   ],
   "source": [
    "#display header of current dataframe\n",
    "traffic_df.head(5)"
   ]
  },
  {
   "cell_type": "code",
   "execution_count": 38,
   "metadata": {},
   "outputs": [
    {
     "data": {
      "text/html": [
       "<div>\n",
       "<style scoped>\n",
       "    .dataframe tbody tr th:only-of-type {\n",
       "        vertical-align: middle;\n",
       "    }\n",
       "\n",
       "    .dataframe tbody tr th {\n",
       "        vertical-align: top;\n",
       "    }\n",
       "\n",
       "    .dataframe thead th {\n",
       "        text-align: right;\n",
       "    }\n",
       "</style>\n",
       "<table border=\"1\" class=\"dataframe\">\n",
       "  <thead>\n",
       "    <tr style=\"text-align: right;\">\n",
       "      <th></th>\n",
       "      <th>mean</th>\n",
       "    </tr>\n",
       "    <tr>\n",
       "      <th>h_start</th>\n",
       "      <th></th>\n",
       "    </tr>\n",
       "  </thead>\n",
       "  <tbody>\n",
       "    <tr>\n",
       "      <th>0</th>\n",
       "      <td>3.447059</td>\n",
       "    </tr>\n",
       "    <tr>\n",
       "      <th>1</th>\n",
       "      <td>3.653846</td>\n",
       "    </tr>\n",
       "    <tr>\n",
       "      <th>2</th>\n",
       "      <td>3.917677</td>\n",
       "    </tr>\n",
       "    <tr>\n",
       "      <th>3</th>\n",
       "      <td>3.494048</td>\n",
       "    </tr>\n",
       "    <tr>\n",
       "      <th>4</th>\n",
       "      <td>3.534114</td>\n",
       "    </tr>\n",
       "    <tr>\n",
       "      <th>5</th>\n",
       "      <td>3.527710</td>\n",
       "    </tr>\n",
       "    <tr>\n",
       "      <th>6</th>\n",
       "      <td>3.536035</td>\n",
       "    </tr>\n",
       "    <tr>\n",
       "      <th>7</th>\n",
       "      <td>3.472882</td>\n",
       "    </tr>\n",
       "    <tr>\n",
       "      <th>8</th>\n",
       "      <td>3.449555</td>\n",
       "    </tr>\n",
       "    <tr>\n",
       "      <th>9</th>\n",
       "      <td>3.456406</td>\n",
       "    </tr>\n",
       "    <tr>\n",
       "      <th>10</th>\n",
       "      <td>3.430423</td>\n",
       "    </tr>\n",
       "    <tr>\n",
       "      <th>11</th>\n",
       "      <td>3.431462</td>\n",
       "    </tr>\n",
       "    <tr>\n",
       "      <th>12</th>\n",
       "      <td>3.434371</td>\n",
       "    </tr>\n",
       "    <tr>\n",
       "      <th>13</th>\n",
       "      <td>3.445363</td>\n",
       "    </tr>\n",
       "    <tr>\n",
       "      <th>14</th>\n",
       "      <td>3.456906</td>\n",
       "    </tr>\n",
       "    <tr>\n",
       "      <th>15</th>\n",
       "      <td>3.447709</td>\n",
       "    </tr>\n",
       "    <tr>\n",
       "      <th>16</th>\n",
       "      <td>3.409136</td>\n",
       "    </tr>\n",
       "    <tr>\n",
       "      <th>17</th>\n",
       "      <td>3.408655</td>\n",
       "    </tr>\n",
       "    <tr>\n",
       "      <th>18</th>\n",
       "      <td>3.418667</td>\n",
       "    </tr>\n",
       "    <tr>\n",
       "      <th>19</th>\n",
       "      <td>3.417226</td>\n",
       "    </tr>\n",
       "    <tr>\n",
       "      <th>20</th>\n",
       "      <td>3.427459</td>\n",
       "    </tr>\n",
       "    <tr>\n",
       "      <th>21</th>\n",
       "      <td>3.434119</td>\n",
       "    </tr>\n",
       "    <tr>\n",
       "      <th>22</th>\n",
       "      <td>3.408512</td>\n",
       "    </tr>\n",
       "    <tr>\n",
       "      <th>23</th>\n",
       "      <td>3.388867</td>\n",
       "    </tr>\n",
       "  </tbody>\n",
       "</table>\n",
       "</div>"
      ],
      "text/plain": [
       "             mean\n",
       "h_start          \n",
       "0        3.447059\n",
       "1        3.653846\n",
       "2        3.917677\n",
       "3        3.494048\n",
       "4        3.534114\n",
       "5        3.527710\n",
       "6        3.536035\n",
       "7        3.472882\n",
       "8        3.449555\n",
       "9        3.456406\n",
       "10       3.430423\n",
       "11       3.431462\n",
       "12       3.434371\n",
       "13       3.445363\n",
       "14       3.456906\n",
       "15       3.447709\n",
       "16       3.409136\n",
       "17       3.408655\n",
       "18       3.418667\n",
       "19       3.417226\n",
       "20       3.427459\n",
       "21       3.434119\n",
       "22       3.408512\n",
       "23       3.388867"
      ]
     },
     "execution_count": 38,
     "metadata": {},
     "output_type": "execute_result"
    }
   ],
   "source": [
    "#Group dataframe according to day of the week\n",
    "DurationAvg_df=pd.DataFrame((pd.DataFrame(traffic_df.groupby(['h_start']).mean())).iloc[:,1])\n",
    "DurationAvg_df.columns=['mean']\n",
    "DurationAvg_df.reset_index()\n",
    "DurationAvg_df/60"
   ]
  },
  {
   "cell_type": "code",
   "execution_count": 41,
   "metadata": {},
   "outputs": [
    {
     "data": {
      "image/png": "[encoded data removed]",
      "text/plain": [
       "<Figure size 432x288 with 1 Axes>"
      ]
     },
     "metadata": {
      "needs_background": "light"
     },
     "output_type": "display_data"
    }
   ],
   "source": [
    "# * Duration of Accident vs. Time of Day\n",
    "x = DurationAvg_df.index.tolist()\n",
    "y = DurationAvg_df['mean']/60\n",
    "plt.plot(x, y, ls=\"\", marker=\"*\", \n",
    "         markersize=5.5, markeredgewidth=0.75, markeredgecolor=\"red\", markerfacecolor=\"green\", \n",
    "         label=\"Accident Duration\")\n",
    "plt.legend(numpoints=1)\n",
    "plt.xlabel(\"Hour of day(24h)\")\n",
    "plt.ylabel(\"Accident duration\")\n",
    "plt.xticks(np.arange(0, 24, 1))\n",
    "plt.title('Accident Duration vs Hour of Day')\n",
    "txt1=\"Figure x. Start-to-End lapse variation during the day \"\n",
    "plt.figtext(0.5, -0.12, txt1, wrap=True, horizontalalignment='center', fontsize=12)\n",
    "plt.tight_layout()\n",
    "plt.show()"
   ]
  },
  {
   "cell_type": "code",
   "execution_count": 42,
   "metadata": {},
   "outputs": [],
   "source": [
    "traffic_df.to_csv('out.csv', index=False)"
   ]
  },
  {
   "cell_type": "code",
   "execution_count": null,
   "metadata": {},
   "outputs": [],
   "source": []
  }
 ],
 "metadata": {
  "kernelspec": {
   "display_name": "Python 3",
   "language": "python",
   "name": "python3"
  },
  "language_info": {
   "codemirror_mode": {
    "name": "ipython",
    "version": 3
   },
   "file_extension": ".py",
   "mimetype": "text/x-python",
   "name": "python",
   "nbconvert_exporter": "python",
   "pygments_lexer": "ipython3",
   "version": "3.8.3"
  }
 },
 "nbformat": 4,
 "nbformat_minor": 4
}
