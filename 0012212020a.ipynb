{
 "cells": [
  {
   "cell_type": "code",
   "execution_count": 1,
   "metadata": {},
   "outputs": [],
   "source": [
    "import pandas as pd\n",
    "import csv\n",
    "\n",
    "path=\"C://Users//oorte//Documents//RICE-CLASS-MATERIAL//team3//US_Accidents_June20.csv\"\n",
    "traffic_df = pd.read_csv(path)"
   ]
  },
  {
   "cell_type": "code",
   "execution_count": 2,
   "metadata": {},
   "outputs": [],
   "source": [
    "#import Dependencies\n",
    "import time \n",
    "import datetime\n",
    "import numpy as np\n",
    "from datetime import date"
   ]
  },
  {
   "cell_type": "code",
   "execution_count": 3,
   "metadata": {},
   "outputs": [],
   "source": [
    "# Read strings representing Start and End of accident\n",
    "date_start=traffic_df[\"Start_Time\"]\n",
    "date_end=traffic_df[\"End_Time\"]\n"
   ]
  },
  {
   "cell_type": "code",
   "execution_count": 4,
   "metadata": {},
   "outputs": [],
   "source": [
    "#convert string of characters to datetime object\n",
    "traffic_df['start']=pd.DataFrame(pd.to_datetime(date_start, format='%Y-%m-%d %H:%M:%S'))\n",
    "traffic_df['end']=pd.DataFrame(pd.to_datetime(date_end, format='%Y-%m-%d %H:%M:%S'))\n",
    "dfa = pd.DataFrame(traffic_df['start'])\n",
    "dfb = pd.DataFrame(traffic_df['end'])\n",
    "#b= traffic_df.columns.get_loc('start')\n"
   ]
  },
  {
   "cell_type": "code",
   "execution_count": 5,
   "metadata": {},
   "outputs": [],
   "source": [
    "traffic_df['tss'] = dfa.iloc[:].apply(lambda x: x['start'].timestamp(), axis=1).astype(int)\n",
    "traffic_df['tse'] = dfb.iloc[:].apply(lambda x: x['end'].timestamp(), axis=1).astype(int)"
   ]
  },
  {
   "cell_type": "code",
   "execution_count": 6,
   "metadata": {},
   "outputs": [],
   "source": [
    "#create additional columns with datetime object split\n",
    "traffic_df['year_start'] = pd.DatetimeIndex(traffic_df['start']).year\n",
    "traffic_df['year_end'] = pd.DatetimeIndex(traffic_df['end']).year\n",
    "\n",
    "traffic_df['month_start'] = pd.DatetimeIndex(traffic_df['start']).month\n",
    "traffic_df['month_end'] = pd.DatetimeIndex(traffic_df['end']).month\n",
    "\n",
    "traffic_df['day_start'] = pd.DatetimeIndex(traffic_df['start']).day\n",
    "traffic_df['day_end'] = pd.DatetimeIndex(traffic_df['end']).day\n",
    "\n",
    "traffic_df['time_start'] = pd.DatetimeIndex(traffic_df['start']).time\n",
    "traffic_df['time_end'] = pd.DatetimeIndex(traffic_df['end']).time\n"
   ]
  },
  {
   "cell_type": "code",
   "execution_count": 7,
   "metadata": {},
   "outputs": [],
   "source": [
    "#create additional columns for hour, minutes, seconds\n",
    "traffic_df['h_start'] = pd.DatetimeIndex(traffic_df['start']).hour\n",
    "traffic_df['h_end'] = pd.DatetimeIndex(traffic_df['end']).hour\n",
    "\n",
    "traffic_df['m_start'] = pd.DatetimeIndex(traffic_df['start']).minute\n",
    "traffic_df['m_end'] = pd.DatetimeIndex(traffic_df['end']).minute\n",
    "\n",
    "traffic_df['s_start'] = pd.DatetimeIndex(traffic_df['start']).second\n",
    "traffic_df['s_end'] = pd.DatetimeIndex(traffic_df['end']).second\n"
   ]
  },
  {
   "cell_type": "code",
   "execution_count": 8,
   "metadata": {},
   "outputs": [],
   "source": [
    "#calculate accident duration\n",
    "traffic_df[\"sec_start\"]=traffic_df['h_start']*60*60+traffic_df['m_start']*60+traffic_df['s_start']*1\n",
    "traffic_df[\"sec_end\"]=traffic_df['h_end']*60*60+traffic_df['m_end']*60+traffic_df['s_end']*1"
   ]
  },
  {
   "cell_type": "code",
   "execution_count": 9,
   "metadata": {},
   "outputs": [
    {
     "data": {
      "text/plain": [
       "0          18840\n",
       "1           1800\n",
       "2           1800\n",
       "3           1800\n",
       "4           1800\n",
       "           ...  \n",
       "3513612     1716\n",
       "3513613     1613\n",
       "3513614     1708\n",
       "3513615     1761\n",
       "3513616     1765\n",
       "Name: duration, Length: 3513617, dtype: int32"
      ]
     },
     "execution_count": 9,
     "metadata": {},
     "output_type": "execute_result"
    }
   ],
   "source": [
    "#if traffic_df[\"sec_end\"]-traffic_df[\"sec_start\"] > 0:\n",
    "traffic_df[\"duration\"]=traffic_df['tse']-traffic_df['tss']\n",
    "#traffic_df[\"duration\"]traffic_df[\"duration\"] = np.where(traffic_df[\"sec_end\"] > traffic_df[\"sec_start\"], timespan,\"\")\n",
    "traffic_df[\"duration\"]                     \n"
   ]
  },
  {
   "cell_type": "code",
   "execution_count": 10,
   "metadata": {},
   "outputs": [],
   "source": [
    "#add additional columns needed for seasons determinations\n",
    "traffic_df['season_start']=traffic_df['month_start']\n",
    "traffic_df['season_end']=traffic_df['month_end']"
   ]
  },
  {
   "cell_type": "code",
   "execution_count": 11,
   "metadata": {},
   "outputs": [],
   "source": [
    "#Determine the day of the week\n",
    "traffic_df['day_of_week'] = traffic_df['start'].dt.day_name()\n"
   ]
  },
  {
   "cell_type": "code",
   "execution_count": 12,
   "metadata": {},
   "outputs": [],
   "source": [
    "#seasons definitions (by month)\n",
    "traffic_df.loc[traffic_df.season_start == 1, \"season_start\"] = \"winter\"\n",
    "traffic_df.loc[traffic_df.season_start == 2, \"season_start\"] = \"winter\"\n",
    "traffic_df.loc[traffic_df.season_start == 12, \"season_start\"] = \"winter\"\n",
    "traffic_df.loc[traffic_df.season_start == 3, \"season_start\"] = \"spring\"\n",
    "traffic_df.loc[traffic_df.season_start == 4, \"season_start\"] = \"spring\"\n",
    "traffic_df.loc[traffic_df.season_start == 5, \"season_start\"] = \"spring\"\n",
    "traffic_df.loc[traffic_df.season_start == 6, \"season_start\"] = \"summer\"\n",
    "traffic_df.loc[traffic_df.season_start == 7, \"season_start\"] = \"summer\"\n",
    "traffic_df.loc[traffic_df.season_start == 8, \"season_start\"] = \"summer\"\n",
    "traffic_df.loc[traffic_df.season_start == 9, \"season_start\"] = \"fall\"\n",
    "traffic_df.loc[traffic_df.season_start == 10, \"season_start\"] = \"fall\"\n",
    "traffic_df.loc[traffic_df.season_start == 11, \"season_start\"] = \"fall\""
   ]
  },
  {
   "cell_type": "code",
   "execution_count": 13,
   "metadata": {},
   "outputs": [
    {
     "data": {
      "text/html": [
       "<div>\n",
       "<style scoped>\n",
       "    .dataframe tbody tr th:only-of-type {\n",
       "        vertical-align: middle;\n",
       "    }\n",
       "\n",
       "    .dataframe tbody tr th {\n",
       "        vertical-align: top;\n",
       "    }\n",
       "\n",
       "    .dataframe thead th {\n",
       "        text-align: right;\n",
       "    }\n",
       "</style>\n",
       "<table border=\"1\" class=\"dataframe\">\n",
       "  <thead>\n",
       "    <tr style=\"text-align: right;\">\n",
       "      <th></th>\n",
       "      <th>season_start</th>\n",
       "      <th>count</th>\n",
       "    </tr>\n",
       "  </thead>\n",
       "  <tbody>\n",
       "    <tr>\n",
       "      <th>0</th>\n",
       "      <td>fall</td>\n",
       "      <td>916021</td>\n",
       "    </tr>\n",
       "    <tr>\n",
       "      <th>1</th>\n",
       "      <td>spring</td>\n",
       "      <td>889432</td>\n",
       "    </tr>\n",
       "    <tr>\n",
       "      <th>2</th>\n",
       "      <td>summer</td>\n",
       "      <td>822220</td>\n",
       "    </tr>\n",
       "    <tr>\n",
       "      <th>3</th>\n",
       "      <td>winter</td>\n",
       "      <td>885944</td>\n",
       "    </tr>\n",
       "  </tbody>\n",
       "</table>\n",
       "</div>"
      ],
      "text/plain": [
       "  season_start   count\n",
       "0         fall  916021\n",
       "1       spring  889432\n",
       "2       summer  822220\n",
       "3       winter  885944"
      ]
     },
     "execution_count": 13,
     "metadata": {},
     "output_type": "execute_result"
    }
   ],
   "source": [
    "#Group dataframe according to season\n",
    "seasons_accidents_df=pd.DataFrame((pd.DataFrame(traffic_df.groupby(['season_start']).count())).iloc[:,1])\n",
    "seasons_accidents_df.columns=['count']\n",
    "\n",
    "seasons_accidents_df.reset_index()\n"
   ]
  },
  {
   "cell_type": "code",
   "execution_count": 14,
   "metadata": {},
   "outputs": [],
   "source": [
    "import matplotlib.pyplot as plt"
   ]
  },
  {
   "cell_type": "code",
   "execution_count": 15,
   "metadata": {},
   "outputs": [
    {
     "data": {
      "image/png": "[encoded data removed]",
      "text/plain": [
       "<Figure size 432x288 with 1 Axes>"
      ]
     },
     "metadata": {
      "needs_background": "light"
     },
     "output_type": "display_data"
    }
   ],
   "source": [
    "# Generate a bar plot showing the total number of accidents per season.\n",
    "\n",
    "fig = plt.figure()\n",
    "ax = fig.add_axes([0,0,1,1])\n",
    "seasons = ['summer', 'winter']\n",
    "count = [seasons_accidents_df['count'][2],seasons_accidents_df['count'][3]]\n",
    "ax.bar(seasons,count)\n",
    "plt.bar(seasons, count, color='green')\n",
    "plt.xlabel(\"Seasons\")\n",
    "plt.ylabel(\"count\")\n",
    "plt.title(\"Number of Accidents per Season\")\n",
    "plt.show()"
   ]
  },
  {
   "cell_type": "code",
   "execution_count": 16,
   "metadata": {},
   "outputs": [
    {
     "data": {
      "text/html": [
       "<div>\n",
       "<style scoped>\n",
       "    .dataframe tbody tr th:only-of-type {\n",
       "        vertical-align: middle;\n",
       "    }\n",
       "\n",
       "    .dataframe tbody tr th {\n",
       "        vertical-align: top;\n",
       "    }\n",
       "\n",
       "    .dataframe thead th {\n",
       "        text-align: right;\n",
       "    }\n",
       "</style>\n",
       "<table border=\"1\" class=\"dataframe\">\n",
       "  <thead>\n",
       "    <tr style=\"text-align: right;\">\n",
       "      <th></th>\n",
       "      <th>month_start</th>\n",
       "      <th>count</th>\n",
       "    </tr>\n",
       "  </thead>\n",
       "  <tbody>\n",
       "    <tr>\n",
       "      <th>0</th>\n",
       "      <td>1</td>\n",
       "      <td>301924</td>\n",
       "    </tr>\n",
       "    <tr>\n",
       "      <th>1</th>\n",
       "      <td>2</td>\n",
       "      <td>284397</td>\n",
       "    </tr>\n",
       "    <tr>\n",
       "      <th>2</th>\n",
       "      <td>3</td>\n",
       "      <td>293389</td>\n",
       "    </tr>\n",
       "    <tr>\n",
       "      <th>3</th>\n",
       "      <td>4</td>\n",
       "      <td>299498</td>\n",
       "    </tr>\n",
       "    <tr>\n",
       "      <th>4</th>\n",
       "      <td>5</td>\n",
       "      <td>296545</td>\n",
       "    </tr>\n",
       "    <tr>\n",
       "      <th>5</th>\n",
       "      <td>6</td>\n",
       "      <td>310322</td>\n",
       "    </tr>\n",
       "    <tr>\n",
       "      <th>6</th>\n",
       "      <td>7</td>\n",
       "      <td>222968</td>\n",
       "    </tr>\n",
       "    <tr>\n",
       "      <th>7</th>\n",
       "      <td>8</td>\n",
       "      <td>288930</td>\n",
       "    </tr>\n",
       "    <tr>\n",
       "      <th>8</th>\n",
       "      <td>9</td>\n",
       "      <td>292420</td>\n",
       "    </tr>\n",
       "    <tr>\n",
       "      <th>9</th>\n",
       "      <td>10</td>\n",
       "      <td>324545</td>\n",
       "    </tr>\n",
       "    <tr>\n",
       "      <th>10</th>\n",
       "      <td>11</td>\n",
       "      <td>299056</td>\n",
       "    </tr>\n",
       "    <tr>\n",
       "      <th>11</th>\n",
       "      <td>12</td>\n",
       "      <td>299623</td>\n",
       "    </tr>\n",
       "  </tbody>\n",
       "</table>\n",
       "</div>"
      ],
      "text/plain": [
       "    month_start   count\n",
       "0             1  301924\n",
       "1             2  284397\n",
       "2             3  293389\n",
       "3             4  299498\n",
       "4             5  296545\n",
       "5             6  310322\n",
       "6             7  222968\n",
       "7             8  288930\n",
       "8             9  292420\n",
       "9            10  324545\n",
       "10           11  299056\n",
       "11           12  299623"
      ]
     },
     "execution_count": 16,
     "metadata": {},
     "output_type": "execute_result"
    }
   ],
   "source": [
    "month_accidents_df=pd.DataFrame((pd.DataFrame(traffic_df.groupby(['month_start']).count())).iloc[:,1])\n",
    "month_accidents_df.columns=['count']\n",
    "month_accidents_df.reset_index()"
   ]
  },
  {
   "cell_type": "code",
   "execution_count": 17,
   "metadata": {},
   "outputs": [
    {
     "data": {
      "image/png": "[encoded data removed]",
      "text/plain": [
       "<Figure size 432x288 with 1 Axes>"
      ]
     },
     "metadata": {
      "needs_background": "light"
     },
     "output_type": "display_data"
    }
   ],
   "source": [
    "# Generate a bar plot showing the total number of accidents per month.\n",
    "\n",
    "fig1 = plt.figure()\n",
    "ax = fig1.add_axes([0,0,1,1])\n",
    "Month = ['January','February','March','April','May','June','July','August','September','October','November','December']\n",
    "count = month_accidents_df['count']\n",
    "ax.bar(Month,count)\n",
    "plt.bar(Month, count, color='orange')\n",
    "plt.xticks(rotation=90)\n",
    "plt.xlabel(\"Month of the year\")\n",
    "plt.ylabel(\"count\")\n",
    "plt.title(\"Number of Accidents per month of the year\")\n",
    "plt.show()"
   ]
  },
  {
   "cell_type": "code",
   "execution_count": 18,
   "metadata": {},
   "outputs": [
    {
     "data": {
      "text/plain": [
       "day_of_week\n",
       "Friday       639706\n",
       "Monday       592871\n",
       "Saturday     214483\n",
       "Sunday       189315\n",
       "Thursday     621677\n",
       "Tuesday      631136\n",
       "Wednesday    624429\n",
       "Name: count, dtype: int64"
      ]
     },
     "execution_count": 18,
     "metadata": {},
     "output_type": "execute_result"
    }
   ],
   "source": [
    "#Group dataframe according to day of the week\n",
    "wday_accidents_df=pd.DataFrame((pd.DataFrame(traffic_df.groupby(['day_of_week']).count())).iloc[:,1])\n",
    "wday_accidents_df.columns=['count']\n",
    "wday_accidents_df.reset_index()\n",
    "wday_accidents_df['count']"
   ]
  },
  {
   "cell_type": "code",
   "execution_count": 19,
   "metadata": {},
   "outputs": [
    {
     "data": {
      "image/png": "[encoded data removed]",
      "text/plain": [
       "<Figure size 432x288 with 1 Axes>"
      ]
     },
     "metadata": {
      "needs_background": "light"
     },
     "output_type": "display_data"
    }
   ],
   "source": [
    "# Generate a bar plot showing the total number of accidents per day of the week.\n",
    "\n",
    "fig2 = plt.figure()\n",
    "ax = fig2.add_axes([0,0,1,1])\n",
    "Day_of_Week = wday_accidents_df.index.tolist()\n",
    "count = wday_accidents_df['count']\n",
    "ax.bar(Day_of_Week,count)\n",
    "plt.bar(Day_of_Week, count, color='brown')\n",
    "plt.xlabel(\"Day of the week\")\n",
    "plt.ylabel(\"count\")\n",
    "plt.title(\"Number of Accidents per day of the week\")\n",
    "plt.show()"
   ]
  },
  {
   "cell_type": "code",
   "execution_count": 20,
   "metadata": {},
   "outputs": [
    {
     "data": {
      "text/html": [
       "<div>\n",
       "<style scoped>\n",
       "    .dataframe tbody tr th:only-of-type {\n",
       "        vertical-align: middle;\n",
       "    }\n",
       "\n",
       "    .dataframe tbody tr th {\n",
       "        vertical-align: top;\n",
       "    }\n",
       "\n",
       "    .dataframe thead th {\n",
       "        text-align: right;\n",
       "    }\n",
       "</style>\n",
       "<table border=\"1\" class=\"dataframe\">\n",
       "  <thead>\n",
       "    <tr style=\"text-align: right;\">\n",
       "      <th></th>\n",
       "      <th>ID</th>\n",
       "      <th>Source</th>\n",
       "      <th>TMC</th>\n",
       "      <th>Severity</th>\n",
       "      <th>Start_Time</th>\n",
       "      <th>End_Time</th>\n",
       "      <th>Start_Lat</th>\n",
       "      <th>Start_Lng</th>\n",
       "      <th>End_Lat</th>\n",
       "      <th>End_Lng</th>\n",
       "      <th>...</th>\n",
       "      <th>m_start</th>\n",
       "      <th>m_end</th>\n",
       "      <th>s_start</th>\n",
       "      <th>s_end</th>\n",
       "      <th>sec_start</th>\n",
       "      <th>sec_end</th>\n",
       "      <th>duration</th>\n",
       "      <th>season_start</th>\n",
       "      <th>season_end</th>\n",
       "      <th>day_of_week</th>\n",
       "    </tr>\n",
       "  </thead>\n",
       "  <tbody>\n",
       "    <tr>\n",
       "      <th>0</th>\n",
       "      <td>A-1</td>\n",
       "      <td>MapQuest</td>\n",
       "      <td>201.0</td>\n",
       "      <td>3</td>\n",
       "      <td>2016-02-08 05:46:00</td>\n",
       "      <td>2016-02-08 11:00:00</td>\n",
       "      <td>39.865147</td>\n",
       "      <td>-84.058723</td>\n",
       "      <td>NaN</td>\n",
       "      <td>NaN</td>\n",
       "      <td>...</td>\n",
       "      <td>46</td>\n",
       "      <td>0</td>\n",
       "      <td>0</td>\n",
       "      <td>0</td>\n",
       "      <td>20760</td>\n",
       "      <td>39600</td>\n",
       "      <td>18840</td>\n",
       "      <td>winter</td>\n",
       "      <td>2</td>\n",
       "      <td>Monday</td>\n",
       "    </tr>\n",
       "    <tr>\n",
       "      <th>1</th>\n",
       "      <td>A-2</td>\n",
       "      <td>MapQuest</td>\n",
       "      <td>201.0</td>\n",
       "      <td>2</td>\n",
       "      <td>2016-02-08 06:07:59</td>\n",
       "      <td>2016-02-08 06:37:59</td>\n",
       "      <td>39.928059</td>\n",
       "      <td>-82.831184</td>\n",
       "      <td>NaN</td>\n",
       "      <td>NaN</td>\n",
       "      <td>...</td>\n",
       "      <td>7</td>\n",
       "      <td>37</td>\n",
       "      <td>59</td>\n",
       "      <td>59</td>\n",
       "      <td>22079</td>\n",
       "      <td>23879</td>\n",
       "      <td>1800</td>\n",
       "      <td>winter</td>\n",
       "      <td>2</td>\n",
       "      <td>Monday</td>\n",
       "    </tr>\n",
       "    <tr>\n",
       "      <th>2</th>\n",
       "      <td>A-3</td>\n",
       "      <td>MapQuest</td>\n",
       "      <td>201.0</td>\n",
       "      <td>2</td>\n",
       "      <td>2016-02-08 06:49:27</td>\n",
       "      <td>2016-02-08 07:19:27</td>\n",
       "      <td>39.063148</td>\n",
       "      <td>-84.032608</td>\n",
       "      <td>NaN</td>\n",
       "      <td>NaN</td>\n",
       "      <td>...</td>\n",
       "      <td>49</td>\n",
       "      <td>19</td>\n",
       "      <td>27</td>\n",
       "      <td>27</td>\n",
       "      <td>24567</td>\n",
       "      <td>26367</td>\n",
       "      <td>1800</td>\n",
       "      <td>winter</td>\n",
       "      <td>2</td>\n",
       "      <td>Monday</td>\n",
       "    </tr>\n",
       "    <tr>\n",
       "      <th>3</th>\n",
       "      <td>A-4</td>\n",
       "      <td>MapQuest</td>\n",
       "      <td>201.0</td>\n",
       "      <td>3</td>\n",
       "      <td>2016-02-08 07:23:34</td>\n",
       "      <td>2016-02-08 07:53:34</td>\n",
       "      <td>39.747753</td>\n",
       "      <td>-84.205582</td>\n",
       "      <td>NaN</td>\n",
       "      <td>NaN</td>\n",
       "      <td>...</td>\n",
       "      <td>23</td>\n",
       "      <td>53</td>\n",
       "      <td>34</td>\n",
       "      <td>34</td>\n",
       "      <td>26614</td>\n",
       "      <td>28414</td>\n",
       "      <td>1800</td>\n",
       "      <td>winter</td>\n",
       "      <td>2</td>\n",
       "      <td>Monday</td>\n",
       "    </tr>\n",
       "    <tr>\n",
       "      <th>4</th>\n",
       "      <td>A-5</td>\n",
       "      <td>MapQuest</td>\n",
       "      <td>201.0</td>\n",
       "      <td>2</td>\n",
       "      <td>2016-02-08 07:39:07</td>\n",
       "      <td>2016-02-08 08:09:07</td>\n",
       "      <td>39.627781</td>\n",
       "      <td>-84.188354</td>\n",
       "      <td>NaN</td>\n",
       "      <td>NaN</td>\n",
       "      <td>...</td>\n",
       "      <td>39</td>\n",
       "      <td>9</td>\n",
       "      <td>7</td>\n",
       "      <td>7</td>\n",
       "      <td>27547</td>\n",
       "      <td>29347</td>\n",
       "      <td>1800</td>\n",
       "      <td>winter</td>\n",
       "      <td>2</td>\n",
       "      <td>Monday</td>\n",
       "    </tr>\n",
       "  </tbody>\n",
       "</table>\n",
       "<p>5 rows × 73 columns</p>\n",
       "</div>"
      ],
      "text/plain": [
       "    ID    Source    TMC  Severity           Start_Time             End_Time  \\\n",
       "0  A-1  MapQuest  201.0         3  2016-02-08 05:46:00  2016-02-08 11:00:00   \n",
       "1  A-2  MapQuest  201.0         2  2016-02-08 06:07:59  2016-02-08 06:37:59   \n",
       "2  A-3  MapQuest  201.0         2  2016-02-08 06:49:27  2016-02-08 07:19:27   \n",
       "3  A-4  MapQuest  201.0         3  2016-02-08 07:23:34  2016-02-08 07:53:34   \n",
       "4  A-5  MapQuest  201.0         2  2016-02-08 07:39:07  2016-02-08 08:09:07   \n",
       "\n",
       "   Start_Lat  Start_Lng  End_Lat  End_Lng  ...  m_start m_end  s_start s_end  \\\n",
       "0  39.865147 -84.058723      NaN      NaN  ...       46     0        0     0   \n",
       "1  39.928059 -82.831184      NaN      NaN  ...        7    37       59    59   \n",
       "2  39.063148 -84.032608      NaN      NaN  ...       49    19       27    27   \n",
       "3  39.747753 -84.205582      NaN      NaN  ...       23    53       34    34   \n",
       "4  39.627781 -84.188354      NaN      NaN  ...       39     9        7     7   \n",
       "\n",
       "  sec_start sec_end duration season_start season_end day_of_week  \n",
       "0     20760   39600    18840       winter          2      Monday  \n",
       "1     22079   23879     1800       winter          2      Monday  \n",
       "2     24567   26367     1800       winter          2      Monday  \n",
       "3     26614   28414     1800       winter          2      Monday  \n",
       "4     27547   29347     1800       winter          2      Monday  \n",
       "\n",
       "[5 rows x 73 columns]"
      ]
     },
     "execution_count": 20,
     "metadata": {},
     "output_type": "execute_result"
    }
   ],
   "source": [
    "#display header of current dataframe\n",
    "traffic_df.head(5)"
   ]
  },
  {
   "cell_type": "code",
   "execution_count": 22,
   "metadata": {},
   "outputs": [
    {
     "data": {
      "text/html": [
       "<div>\n",
       "<style scoped>\n",
       "    .dataframe tbody tr th:only-of-type {\n",
       "        vertical-align: middle;\n",
       "    }\n",
       "\n",
       "    .dataframe tbody tr th {\n",
       "        vertical-align: top;\n",
       "    }\n",
       "\n",
       "    .dataframe thead th {\n",
       "        text-align: right;\n",
       "    }\n",
       "</style>\n",
       "<table border=\"1\" class=\"dataframe\">\n",
       "  <thead>\n",
       "    <tr style=\"text-align: right;\">\n",
       "      <th></th>\n",
       "      <th>mean</th>\n",
       "    </tr>\n",
       "    <tr>\n",
       "      <th>h_start</th>\n",
       "      <th></th>\n",
       "    </tr>\n",
       "  </thead>\n",
       "  <tbody>\n",
       "    <tr>\n",
       "      <th>0</th>\n",
       "      <td>2.576935</td>\n",
       "    </tr>\n",
       "    <tr>\n",
       "      <th>1</th>\n",
       "      <td>2.532253</td>\n",
       "    </tr>\n",
       "    <tr>\n",
       "      <th>2</th>\n",
       "      <td>2.553849</td>\n",
       "    </tr>\n",
       "    <tr>\n",
       "      <th>3</th>\n",
       "      <td>2.580081</td>\n",
       "    </tr>\n",
       "    <tr>\n",
       "      <th>4</th>\n",
       "      <td>2.410549</td>\n",
       "    </tr>\n",
       "    <tr>\n",
       "      <th>5</th>\n",
       "      <td>2.379126</td>\n",
       "    </tr>\n",
       "    <tr>\n",
       "      <th>6</th>\n",
       "      <td>2.328862</td>\n",
       "    </tr>\n",
       "    <tr>\n",
       "      <th>7</th>\n",
       "      <td>2.282088</td>\n",
       "    </tr>\n",
       "    <tr>\n",
       "      <th>8</th>\n",
       "      <td>2.273226</td>\n",
       "    </tr>\n",
       "    <tr>\n",
       "      <th>9</th>\n",
       "      <td>2.310178</td>\n",
       "    </tr>\n",
       "    <tr>\n",
       "      <th>10</th>\n",
       "      <td>2.304039</td>\n",
       "    </tr>\n",
       "    <tr>\n",
       "      <th>11</th>\n",
       "      <td>2.301734</td>\n",
       "    </tr>\n",
       "    <tr>\n",
       "      <th>12</th>\n",
       "      <td>2.334233</td>\n",
       "    </tr>\n",
       "    <tr>\n",
       "      <th>13</th>\n",
       "      <td>2.343070</td>\n",
       "    </tr>\n",
       "    <tr>\n",
       "      <th>14</th>\n",
       "      <td>2.345171</td>\n",
       "    </tr>\n",
       "    <tr>\n",
       "      <th>15</th>\n",
       "      <td>2.341854</td>\n",
       "    </tr>\n",
       "    <tr>\n",
       "      <th>16</th>\n",
       "      <td>2.335660</td>\n",
       "    </tr>\n",
       "    <tr>\n",
       "      <th>17</th>\n",
       "      <td>2.337408</td>\n",
       "    </tr>\n",
       "    <tr>\n",
       "      <th>18</th>\n",
       "      <td>2.351036</td>\n",
       "    </tr>\n",
       "    <tr>\n",
       "      <th>19</th>\n",
       "      <td>2.368733</td>\n",
       "    </tr>\n",
       "    <tr>\n",
       "      <th>20</th>\n",
       "      <td>2.405482</td>\n",
       "    </tr>\n",
       "    <tr>\n",
       "      <th>21</th>\n",
       "      <td>2.439438</td>\n",
       "    </tr>\n",
       "    <tr>\n",
       "      <th>22</th>\n",
       "      <td>2.462434</td>\n",
       "    </tr>\n",
       "    <tr>\n",
       "      <th>23</th>\n",
       "      <td>2.516739</td>\n",
       "    </tr>\n",
       "  </tbody>\n",
       "</table>\n",
       "</div>"
      ],
      "text/plain": [
       "             mean\n",
       "h_start          \n",
       "0        2.576935\n",
       "1        2.532253\n",
       "2        2.553849\n",
       "3        2.580081\n",
       "4        2.410549\n",
       "5        2.379126\n",
       "6        2.328862\n",
       "7        2.282088\n",
       "8        2.273226\n",
       "9        2.310178\n",
       "10       2.304039\n",
       "11       2.301734\n",
       "12       2.334233\n",
       "13       2.343070\n",
       "14       2.345171\n",
       "15       2.341854\n",
       "16       2.335660\n",
       "17       2.337408\n",
       "18       2.351036\n",
       "19       2.368733\n",
       "20       2.405482\n",
       "21       2.439438\n",
       "22       2.462434\n",
       "23       2.516739"
      ]
     },
     "execution_count": 22,
     "metadata": {},
     "output_type": "execute_result"
    }
   ],
   "source": [
    "#Group dataframe according to day of the week\n",
    "DurationAvg_df=pd.DataFrame((pd.DataFrame(traffic_df.groupby(['h_start']).mean())).iloc[:,1])\n",
    "DurationAvg_df.columns=['mean']\n",
    "DurationAvg_df.reset_index()\n",
    "DurationAvg_df"
   ]
  },
  {
   "cell_type": "code",
   "execution_count": 23,
   "metadata": {},
   "outputs": [
    {
     "data": {
      "image/png": "[encoded data removed]",
      "text/plain": [
       "<Figure size 432x288 with 1 Axes>"
      ]
     },
     "metadata": {
      "needs_background": "light"
     },
     "output_type": "display_data"
    }
   ],
   "source": [
    "# * Duration of Accident vs. Time of Day\n",
    "x = DurationAvg_df.index.tolist()\n",
    "y = DurationAvg_df['mean']/60\n",
    "plt.plot(x, y, ls=\"\", marker=\"*\", \n",
    "         markersize=5.5, markeredgewidth=0.75, markeredgecolor=\"red\", markerfacecolor=\"green\", \n",
    "         label=\"Accident Duration\")\n",
    "plt.legend(numpoints=1)\n",
    "plt.xlabel(\"Hour of day(24h)\")\n",
    "plt.ylabel(\"Accident duration\")\n",
    "plt.xticks(np.arange(0, 24, 1))\n",
    "plt.title('Accident Duration vs Hour of Day')\n",
    "txt1=\"Figure x. Start-to-End lapse variation during the day \"\n",
    "plt.figtext(0.5, -0.12, txt1, wrap=True, horizontalalignment='center', fontsize=12)\n",
    "plt.tight_layout()\n",
    "plt.show()"
   ]
  },
  {
   "cell_type": "code",
   "execution_count": 24,
   "metadata": {},
   "outputs": [],
   "source": [
    "traffic_df.to_csv('outAll.csv', index=False)"
   ]
  },
  {
   "cell_type": "code",
   "execution_count": null,
   "metadata": {},
   "outputs": [],
   "source": []
  }
 ],
 "metadata": {
  "kernelspec": {
   "display_name": "Python 3",
   "language": "python",
   "name": "python3"
  },
  "language_info": {
   "codemirror_mode": {
    "name": "ipython",
    "version": 3
   },
   "file_extension": ".py",
   "mimetype": "text/x-python",
   "name": "python",
   "nbconvert_exporter": "python",
   "pygments_lexer": "ipython3",
   "version": "3.8.3"
  }
 },
 "nbformat": 4,
 "nbformat_minor": 4
}
