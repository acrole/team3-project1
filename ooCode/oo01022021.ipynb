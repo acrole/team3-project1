{
 "cells": [
  {
   "cell_type": "markdown",
   "metadata": {},
   "source": [
    "## This part of the code is for: "
   ]
  },
  {
   "cell_type": "markdown",
   "metadata": {},
   "source": [
    "###### 1) read the csv file that contains the data\n",
    "###### 2) convert to timestamp format the text data in som columns\n",
    "###### 3) construct a dataframe with the timestamp split columns for year, month, day, hour, minutes, seconds\n",
    "###### 4) determine the duration of the event\n",
    "###### 5) determine in which season the event occurred to use within the team\n",
    "###### 6) determine the distribution of accident slow-downs per month of the year\n",
    "###### 7)determine if the number of accidents is related to pay-day, assuming that pay-day is Friday\n",
    "###### 8) determine if the day of the month has an effect on the count of slow-downs, particularly at the end of the month"
   ]
  },
  {
   "cell_type": "code",
   "execution_count": 1,
   "metadata": {},
   "outputs": [],
   "source": [
    "#import Dependencies\n",
    "import pandas as pd\n",
    "import csv\n",
    "\n",
    "import time \n",
    "import datetime\n",
    "import numpy as np\n",
    "from datetime import date\n",
    "\n"
   ]
  },
  {
   "cell_type": "code",
   "execution_count": 5,
   "metadata": {},
   "outputs": [],
   "source": [
    "#Read database\n",
    "path=\"../data/YK_TX2017-19_Accidents.csv\"\n",
    "traffic_df=pd.read_csv(path,index_col='Unnamed: 0')\n"
   ]
  },
  {
   "cell_type": "code",
   "execution_count": 6,
   "metadata": {},
   "outputs": [
    {
     "data": {
      "text/html": [
       "<div>\n",
       "<style scoped>\n",
       "    .dataframe tbody tr th:only-of-type {\n",
       "        vertical-align: middle;\n",
       "    }\n",
       "\n",
       "    .dataframe tbody tr th {\n",
       "        vertical-align: top;\n",
       "    }\n",
       "\n",
       "    .dataframe thead th {\n",
       "        text-align: right;\n",
       "    }\n",
       "</style>\n",
       "<table border=\"1\" class=\"dataframe\">\n",
       "  <thead>\n",
       "    <tr style=\"text-align: right;\">\n",
       "      <th></th>\n",
       "      <th>ID</th>\n",
       "      <th>Source</th>\n",
       "      <th>TMC</th>\n",
       "      <th>Severity</th>\n",
       "      <th>Start_Time</th>\n",
       "      <th>End_Time</th>\n",
       "      <th>Start_Lat</th>\n",
       "      <th>Start_Lng</th>\n",
       "      <th>End_Lat</th>\n",
       "      <th>End_Lng</th>\n",
       "      <th>...</th>\n",
       "      <th>Station</th>\n",
       "      <th>Stop</th>\n",
       "      <th>Traffic_Calming</th>\n",
       "      <th>Traffic_Signal</th>\n",
       "      <th>Turning_Loop</th>\n",
       "      <th>Sunrise_Sunset</th>\n",
       "      <th>Civil_Twilight</th>\n",
       "      <th>Nautical_Twilight</th>\n",
       "      <th>Astronomical_Twilight</th>\n",
       "      <th>Year</th>\n",
       "    </tr>\n",
       "  </thead>\n",
       "  <tbody>\n",
       "    <tr>\n",
       "      <th>267710</th>\n",
       "      <td>A-267712</td>\n",
       "      <td>MapQuest</td>\n",
       "      <td>201.0</td>\n",
       "      <td>2</td>\n",
       "      <td>2017-01-02 14:40:12</td>\n",
       "      <td>2017-01-02 15:39:53</td>\n",
       "      <td>30.393579</td>\n",
       "      <td>-97.745979</td>\n",
       "      <td>NaN</td>\n",
       "      <td>NaN</td>\n",
       "      <td>...</td>\n",
       "      <td>False</td>\n",
       "      <td>False</td>\n",
       "      <td>False</td>\n",
       "      <td>False</td>\n",
       "      <td>False</td>\n",
       "      <td>Day</td>\n",
       "      <td>Day</td>\n",
       "      <td>Day</td>\n",
       "      <td>Day</td>\n",
       "      <td>2017</td>\n",
       "    </tr>\n",
       "    <tr>\n",
       "      <th>267711</th>\n",
       "      <td>A-267713</td>\n",
       "      <td>MapQuest</td>\n",
       "      <td>201.0</td>\n",
       "      <td>2</td>\n",
       "      <td>2017-01-02 14:28:48</td>\n",
       "      <td>2017-01-02 15:28:36</td>\n",
       "      <td>30.256216</td>\n",
       "      <td>-97.722038</td>\n",
       "      <td>NaN</td>\n",
       "      <td>NaN</td>\n",
       "      <td>...</td>\n",
       "      <td>False</td>\n",
       "      <td>False</td>\n",
       "      <td>False</td>\n",
       "      <td>False</td>\n",
       "      <td>False</td>\n",
       "      <td>Day</td>\n",
       "      <td>Day</td>\n",
       "      <td>Day</td>\n",
       "      <td>Day</td>\n",
       "      <td>2017</td>\n",
       "    </tr>\n",
       "    <tr>\n",
       "      <th>267712</th>\n",
       "      <td>A-267714</td>\n",
       "      <td>MapQuest</td>\n",
       "      <td>201.0</td>\n",
       "      <td>2</td>\n",
       "      <td>2017-01-02 14:04:17</td>\n",
       "      <td>2017-01-02 15:05:00</td>\n",
       "      <td>30.418287</td>\n",
       "      <td>-97.700874</td>\n",
       "      <td>NaN</td>\n",
       "      <td>NaN</td>\n",
       "      <td>...</td>\n",
       "      <td>False</td>\n",
       "      <td>False</td>\n",
       "      <td>False</td>\n",
       "      <td>False</td>\n",
       "      <td>False</td>\n",
       "      <td>Day</td>\n",
       "      <td>Day</td>\n",
       "      <td>Day</td>\n",
       "      <td>Day</td>\n",
       "      <td>2017</td>\n",
       "    </tr>\n",
       "    <tr>\n",
       "      <th>267713</th>\n",
       "      <td>A-267715</td>\n",
       "      <td>MapQuest</td>\n",
       "      <td>201.0</td>\n",
       "      <td>2</td>\n",
       "      <td>2017-01-02 14:29:13</td>\n",
       "      <td>2017-01-02 15:35:00</td>\n",
       "      <td>30.237938</td>\n",
       "      <td>-97.696167</td>\n",
       "      <td>NaN</td>\n",
       "      <td>NaN</td>\n",
       "      <td>...</td>\n",
       "      <td>False</td>\n",
       "      <td>False</td>\n",
       "      <td>False</td>\n",
       "      <td>False</td>\n",
       "      <td>False</td>\n",
       "      <td>Day</td>\n",
       "      <td>Day</td>\n",
       "      <td>Day</td>\n",
       "      <td>Day</td>\n",
       "      <td>2017</td>\n",
       "    </tr>\n",
       "    <tr>\n",
       "      <th>267714</th>\n",
       "      <td>A-267716</td>\n",
       "      <td>MapQuest</td>\n",
       "      <td>201.0</td>\n",
       "      <td>2</td>\n",
       "      <td>2017-01-02 14:40:51</td>\n",
       "      <td>2017-01-02 15:40:23</td>\n",
       "      <td>30.364882</td>\n",
       "      <td>-97.695992</td>\n",
       "      <td>NaN</td>\n",
       "      <td>NaN</td>\n",
       "      <td>...</td>\n",
       "      <td>False</td>\n",
       "      <td>False</td>\n",
       "      <td>False</td>\n",
       "      <td>True</td>\n",
       "      <td>False</td>\n",
       "      <td>Day</td>\n",
       "      <td>Day</td>\n",
       "      <td>Day</td>\n",
       "      <td>Day</td>\n",
       "      <td>2017</td>\n",
       "    </tr>\n",
       "  </tbody>\n",
       "</table>\n",
       "<p>5 rows × 50 columns</p>\n",
       "</div>"
      ],
      "text/plain": [
       "              ID    Source    TMC  Severity           Start_Time  \\\n",
       "267710  A-267712  MapQuest  201.0         2  2017-01-02 14:40:12   \n",
       "267711  A-267713  MapQuest  201.0         2  2017-01-02 14:28:48   \n",
       "267712  A-267714  MapQuest  201.0         2  2017-01-02 14:04:17   \n",
       "267713  A-267715  MapQuest  201.0         2  2017-01-02 14:29:13   \n",
       "267714  A-267716  MapQuest  201.0         2  2017-01-02 14:40:51   \n",
       "\n",
       "                   End_Time  Start_Lat  Start_Lng  End_Lat  End_Lng  ...  \\\n",
       "267710  2017-01-02 15:39:53  30.393579 -97.745979      NaN      NaN  ...   \n",
       "267711  2017-01-02 15:28:36  30.256216 -97.722038      NaN      NaN  ...   \n",
       "267712  2017-01-02 15:05:00  30.418287 -97.700874      NaN      NaN  ...   \n",
       "267713  2017-01-02 15:35:00  30.237938 -97.696167      NaN      NaN  ...   \n",
       "267714  2017-01-02 15:40:23  30.364882 -97.695992      NaN      NaN  ...   \n",
       "\n",
       "        Station   Stop  Traffic_Calming Traffic_Signal Turning_Loop  \\\n",
       "267710    False  False            False          False        False   \n",
       "267711    False  False            False          False        False   \n",
       "267712    False  False            False          False        False   \n",
       "267713    False  False            False          False        False   \n",
       "267714    False  False            False           True        False   \n",
       "\n",
       "       Sunrise_Sunset Civil_Twilight Nautical_Twilight Astronomical_Twilight  \\\n",
       "267710            Day            Day               Day                   Day   \n",
       "267711            Day            Day               Day                   Day   \n",
       "267712            Day            Day               Day                   Day   \n",
       "267713            Day            Day               Day                   Day   \n",
       "267714            Day            Day               Day                   Day   \n",
       "\n",
       "        Year  \n",
       "267710  2017  \n",
       "267711  2017  \n",
       "267712  2017  \n",
       "267713  2017  \n",
       "267714  2017  \n",
       "\n",
       "[5 rows x 50 columns]"
      ]
     },
     "execution_count": 6,
     "metadata": {},
     "output_type": "execute_result"
    }
   ],
   "source": [
    "#Display the header of the csv file\n",
    "traffic_df.head()"
   ]
  },
  {
   "cell_type": "code",
   "execution_count": 7,
   "metadata": {},
   "outputs": [],
   "source": [
    "# Read strings representing Start and End of event because they will be used later\n",
    "date_start=traffic_df[\"Start_Time\"]\n",
    "date_end=traffic_df[\"End_Time\"]\n"
   ]
  },
  {
   "cell_type": "code",
   "execution_count": 8,
   "metadata": {},
   "outputs": [],
   "source": [
    "#convert string of characters to datetime object\n",
    "traffic_df['start']=pd.DataFrame(pd.to_datetime(date_start, format='%Y-%m-%d %H:%M:%S'))\n",
    "traffic_df['end']=pd.DataFrame(pd.to_datetime(date_end, format='%Y-%m-%d %H:%M:%S'))\n",
    "dfa = pd.DataFrame(traffic_df['start'])\n",
    "dfb = pd.DataFrame(traffic_df['end'])\n"
   ]
  },
  {
   "cell_type": "code",
   "execution_count": 9,
   "metadata": {},
   "outputs": [],
   "source": [
    "#Convert timestamp to integer for mathematical operations\n",
    "traffic_df['tss'] = dfa.iloc[:].apply(lambda x: x['start'].timestamp(), axis=1).astype(int)\n",
    "traffic_df['tse'] = dfb.iloc[:].apply(lambda x: x['end'].timestamp(), axis=1).astype(int)\n"
   ]
  },
  {
   "cell_type": "code",
   "execution_count": 10,
   "metadata": {},
   "outputs": [],
   "source": [
    "#create additional columns with datetime object split\n",
    "traffic_df['year_start'] = pd.DatetimeIndex(traffic_df['start']).year\n",
    "traffic_df['year_end'] = pd.DatetimeIndex(traffic_df['end']).year\n",
    "\n",
    "traffic_df['month_start'] = pd.DatetimeIndex(traffic_df['start']).month\n",
    "traffic_df['month_end'] = pd.DatetimeIndex(traffic_df['end']).month\n",
    "\n",
    "traffic_df['day_start'] = pd.DatetimeIndex(traffic_df['start']).day\n",
    "traffic_df['day_end'] = pd.DatetimeIndex(traffic_df['end']).day\n",
    "\n",
    "traffic_df['time_start'] = pd.DatetimeIndex(traffic_df['start']).time\n",
    "traffic_df['time_end'] = pd.DatetimeIndex(traffic_df['end']).time\n"
   ]
  },
  {
   "cell_type": "code",
   "execution_count": 11,
   "metadata": {},
   "outputs": [],
   "source": [
    "#create additional columns for hour, minutes, seconds\n",
    "traffic_df['h_start'] = pd.DatetimeIndex(traffic_df['start']).hour\n",
    "traffic_df['h_end'] = pd.DatetimeIndex(traffic_df['end']).hour\n",
    "\n",
    "traffic_df['m_start'] = pd.DatetimeIndex(traffic_df['start']).minute\n",
    "traffic_df['m_end'] = pd.DatetimeIndex(traffic_df['end']).minute\n",
    "\n",
    "traffic_df['s_start'] = pd.DatetimeIndex(traffic_df['start']).second\n",
    "traffic_df['s_end'] = pd.DatetimeIndex(traffic_df['end']).second\n"
   ]
  },
  {
   "cell_type": "code",
   "execution_count": 12,
   "metadata": {},
   "outputs": [],
   "source": [
    "#calculate the second that the traffic event started and ended\n",
    "traffic_df[\"sec_start\"]=traffic_df['h_start']*60*60+traffic_df['m_start']*60+traffic_df['s_start']*1\n",
    "traffic_df[\"sec_end\"]=traffic_df['h_end']*60*60+traffic_df['m_end']*60+traffic_df['s_end']*1"
   ]
  },
  {
   "cell_type": "code",
   "execution_count": 13,
   "metadata": {},
   "outputs": [],
   "source": [
    "#calculate the duration of the event\n",
    "traffic_df[\"duration\"]=traffic_df['tse']-traffic_df['tss']\n"
   ]
  },
  {
   "cell_type": "code",
   "execution_count": 14,
   "metadata": {},
   "outputs": [],
   "source": [
    "#add additional columns needed for seasons determinations\n",
    "traffic_df['season_start']=traffic_df['month_start']\n",
    "traffic_df['season_end']=traffic_df['month_end']"
   ]
  },
  {
   "cell_type": "code",
   "execution_count": 15,
   "metadata": {},
   "outputs": [],
   "source": [
    "#Determine the day of the week\n",
    "traffic_df['day_of_week'] = traffic_df['start'].dt.day_name()\n"
   ]
  },
  {
   "cell_type": "code",
   "execution_count": 16,
   "metadata": {},
   "outputs": [],
   "source": [
    "#seasons definitions (by month)\n",
    "traffic_df.loc[traffic_df.season_start == 1, \"season_start\"] = \"winter\"\n",
    "traffic_df.loc[traffic_df.season_start == 2, \"season_start\"] = \"winter\"\n",
    "traffic_df.loc[traffic_df.season_start == 12, \"season_start\"] = \"winter\"\n",
    "traffic_df.loc[traffic_df.season_start == 3, \"season_start\"] = \"spring\"\n",
    "traffic_df.loc[traffic_df.season_start == 4, \"season_start\"] = \"spring\"\n",
    "traffic_df.loc[traffic_df.season_start == 5, \"season_start\"] = \"spring\"\n",
    "traffic_df.loc[traffic_df.season_start == 6, \"season_start\"] = \"summer\"\n",
    "traffic_df.loc[traffic_df.season_start == 7, \"season_start\"] = \"summer\"\n",
    "traffic_df.loc[traffic_df.season_start == 8, \"season_start\"] = \"summer\"\n",
    "traffic_df.loc[traffic_df.season_start == 9, \"season_start\"] = \"fall\"\n",
    "traffic_df.loc[traffic_df.season_start == 10, \"season_start\"] = \"fall\"\n",
    "traffic_df.loc[traffic_df.season_start == 11, \"season_start\"] = \"fall\""
   ]
  },
  {
   "cell_type": "code",
   "execution_count": 17,
   "metadata": {},
   "outputs": [
    {
     "data": {
      "text/html": [
       "<div>\n",
       "<style scoped>\n",
       "    .dataframe tbody tr th:only-of-type {\n",
       "        vertical-align: middle;\n",
       "    }\n",
       "\n",
       "    .dataframe tbody tr th {\n",
       "        vertical-align: top;\n",
       "    }\n",
       "\n",
       "    .dataframe thead th {\n",
       "        text-align: right;\n",
       "    }\n",
       "</style>\n",
       "<table border=\"1\" class=\"dataframe\">\n",
       "  <thead>\n",
       "    <tr style=\"text-align: right;\">\n",
       "      <th></th>\n",
       "      <th>season_start</th>\n",
       "      <th>count</th>\n",
       "    </tr>\n",
       "  </thead>\n",
       "  <tbody>\n",
       "    <tr>\n",
       "      <th>0</th>\n",
       "      <td>fall</td>\n",
       "      <td>64670</td>\n",
       "    </tr>\n",
       "    <tr>\n",
       "      <th>1</th>\n",
       "      <td>spring</td>\n",
       "      <td>61900</td>\n",
       "    </tr>\n",
       "    <tr>\n",
       "      <th>2</th>\n",
       "      <td>summer</td>\n",
       "      <td>58544</td>\n",
       "    </tr>\n",
       "    <tr>\n",
       "      <th>3</th>\n",
       "      <td>winter</td>\n",
       "      <td>63184</td>\n",
       "    </tr>\n",
       "  </tbody>\n",
       "</table>\n",
       "</div>"
      ],
      "text/plain": [
       "  season_start  count\n",
       "0         fall  64670\n",
       "1       spring  61900\n",
       "2       summer  58544\n",
       "3       winter  63184"
      ]
     },
     "execution_count": 17,
     "metadata": {},
     "output_type": "execute_result"
    }
   ],
   "source": [
    "#Group dataframe according to season\n",
    "seasons_accidents_df=pd.DataFrame((pd.DataFrame(traffic_df.groupby(['season_start']).count())).iloc[:,1])\n",
    "seasons_accidents_df.columns=['count']\n",
    "\n",
    "seasons_accidents_df.reset_index()\n"
   ]
  },
  {
   "cell_type": "code",
   "execution_count": 18,
   "metadata": {},
   "outputs": [],
   "source": [
    "#New dependencies for plotting\n",
    "import matplotlib.pyplot as plt"
   ]
  },
  {
   "cell_type": "code",
   "execution_count": 19,
   "metadata": {},
   "outputs": [
    {
     "data": {
      "text/html": [
       "<div>\n",
       "<style scoped>\n",
       "    .dataframe tbody tr th:only-of-type {\n",
       "        vertical-align: middle;\n",
       "    }\n",
       "\n",
       "    .dataframe tbody tr th {\n",
       "        vertical-align: top;\n",
       "    }\n",
       "\n",
       "    .dataframe thead th {\n",
       "        text-align: right;\n",
       "    }\n",
       "</style>\n",
       "<table border=\"1\" class=\"dataframe\">\n",
       "  <thead>\n",
       "    <tr style=\"text-align: right;\">\n",
       "      <th></th>\n",
       "      <th>month_start</th>\n",
       "      <th>count</th>\n",
       "    </tr>\n",
       "  </thead>\n",
       "  <tbody>\n",
       "    <tr>\n",
       "      <th>0</th>\n",
       "      <td>1</td>\n",
       "      <td>22089</td>\n",
       "    </tr>\n",
       "    <tr>\n",
       "      <th>1</th>\n",
       "      <td>2</td>\n",
       "      <td>20987</td>\n",
       "    </tr>\n",
       "    <tr>\n",
       "      <th>2</th>\n",
       "      <td>3</td>\n",
       "      <td>21363</td>\n",
       "    </tr>\n",
       "    <tr>\n",
       "      <th>3</th>\n",
       "      <td>4</td>\n",
       "      <td>21259</td>\n",
       "    </tr>\n",
       "    <tr>\n",
       "      <th>4</th>\n",
       "      <td>5</td>\n",
       "      <td>19278</td>\n",
       "    </tr>\n",
       "    <tr>\n",
       "      <th>5</th>\n",
       "      <td>6</td>\n",
       "      <td>18501</td>\n",
       "    </tr>\n",
       "    <tr>\n",
       "      <th>6</th>\n",
       "      <td>7</td>\n",
       "      <td>18004</td>\n",
       "    </tr>\n",
       "    <tr>\n",
       "      <th>7</th>\n",
       "      <td>8</td>\n",
       "      <td>22039</td>\n",
       "    </tr>\n",
       "    <tr>\n",
       "      <th>8</th>\n",
       "      <td>9</td>\n",
       "      <td>20411</td>\n",
       "    </tr>\n",
       "    <tr>\n",
       "      <th>9</th>\n",
       "      <td>10</td>\n",
       "      <td>23316</td>\n",
       "    </tr>\n",
       "    <tr>\n",
       "      <th>10</th>\n",
       "      <td>11</td>\n",
       "      <td>20943</td>\n",
       "    </tr>\n",
       "    <tr>\n",
       "      <th>11</th>\n",
       "      <td>12</td>\n",
       "      <td>20108</td>\n",
       "    </tr>\n",
       "  </tbody>\n",
       "</table>\n",
       "</div>"
      ],
      "text/plain": [
       "    month_start  count\n",
       "0             1  22089\n",
       "1             2  20987\n",
       "2             3  21363\n",
       "3             4  21259\n",
       "4             5  19278\n",
       "5             6  18501\n",
       "6             7  18004\n",
       "7             8  22039\n",
       "8             9  20411\n",
       "9            10  23316\n",
       "10           11  20943\n",
       "11           12  20108"
      ]
     },
     "execution_count": 19,
     "metadata": {},
     "output_type": "execute_result"
    }
   ],
   "source": [
    "#Group the dataframe by month and reset the index to use this dataframe later\n",
    "month_accidents_df=pd.DataFrame((pd.DataFrame(traffic_df.groupby(['month_start']).count())).iloc[:,1])\n",
    "month_accidents_df.columns=['count']\n",
    "month_accidents_df.reset_index()"
   ]
  },
  {
   "cell_type": "code",
   "execution_count": 29,
   "metadata": {},
   "outputs": [
    {
     "data": {
      "image/png": "[encoded data removed]",
      "text/plain": [
       "<Figure size 720x432 with 1 Axes>"
      ]
     },
     "metadata": {
      "needs_background": "light"
     },
     "output_type": "display_data"
    }
   ],
   "source": [
    "# Generate a bar plot showing the total number of traffic slow downs related to accidents per month.\n",
    "\n",
    "fig_size = plt.rcParams[\"figure.figsize\"]\n",
    "fig_size[0] = 10\n",
    "fig_size[1] = 6\n",
    "plot1=plt.subplot(111)\n",
    "Month = ['January','February','March','April','May','June','July','August','September','October','November','December']\n",
    "count = month_accidents_df['count']\n",
    "plot1 = plt.bar(Month, count, color='orange')\n",
    "plt.xticks(rotation=90)\n",
    "plt.xlabel(\"Month of the year\")\n",
    "plt.ylabel(\"count\")\n",
    "plt.title(\"Number of traffic slow-downs due to accidents per month of the year\")\n",
    "#plt.show()\n",
    "plt.savefig('../Analysis/output/OO_TX_accidents_month_barplot.png')\n"
   ]
  },
  {
   "cell_type": "markdown",
   "metadata": {},
   "source": [
    "***This bar graph shows that July has significantly lower number of traffic delays than other months of the year. October, on the other hand, has the most slow downs due to traffic accidents. Our team speculates that this could be due to Halloween holiday.***"
   ]
  },
  {
   "cell_type": "code",
   "execution_count": 30,
   "metadata": {},
   "outputs": [
    {
     "data": {
      "text/plain": [
       "day_of_week\n",
       "Friday       46231\n",
       "Monday       44206\n",
       "Saturday     11269\n",
       "Sunday        9259\n",
       "Thursday     44592\n",
       "Tuesday      46691\n",
       "Wednesday    46050\n",
       "Name: count, dtype: int64"
      ]
     },
     "execution_count": 30,
     "metadata": {},
     "output_type": "execute_result"
    }
   ],
   "source": [
    "#Group dataframe according to day of the week\n",
    "wday_accidents_df=pd.DataFrame((pd.DataFrame(traffic_df.groupby(['day_of_week']).count())).iloc[:,1])\n",
    "wday_accidents_df.columns=['count']\n",
    "wday_accidents_df.reset_index()\n",
    "wday_accidents_df['count']\n"
   ]
  },
  {
   "cell_type": "code",
   "execution_count": 31,
   "metadata": {},
   "outputs": [
    {
     "data": {
      "image/png": "[encoded data removed]",
      "text/plain": [
       "<Figure size 720x432 with 1 Axes>"
      ]
     },
     "metadata": {
      "needs_background": "light"
     },
     "output_type": "display_data"
    }
   ],
   "source": [
    "# Generate a bar plot showing the total number of accidents per day of the week.\n",
    "\n",
    "fig_size = plt.rcParams[\"figure.figsize\"]\n",
    "fig_size[0] = 10\n",
    "fig_size[1] = 6\n",
    "plot1=plt.subplot(111)\n",
    "Day_of_Week = wday_accidents_df.index.tolist()\n",
    "count = wday_accidents_df['count']\n",
    "\n",
    "plot1= plt.bar(Day_of_Week, count, color='brown')\n",
    "plt.xlabel(\"Day of the week\")\n",
    "plt.ylabel(\"count\")\n",
    "plt.title(\"Number of slow-downs due to accidents per day of the week\")\n",
    "#plt.show()\n",
    "plt.savefig('../Analysis/output/OO_TX_accidents_dayofweek_barplot.png')"
   ]
  },
  {
   "cell_type": "markdown",
   "metadata": {},
   "source": [
    "***This graph suggests that Friday is not very different in the number of traffic slow-downs due to accidents than other days of the standard work week. However, on weekends (Saturday and Sunday) slow-downs due to accidents are less frequent. One interpretation is that less people are driving and hence traffic is smoother on weekends. Curiously, on Mondays traffic slow-downs due to accidents is lower than any other day of the work week and perhaps this is due to higher degree of awareness and less fatigue at the start of the work week***"
   ]
  },
  {
   "cell_type": "code",
   "execution_count": 35,
   "metadata": {},
   "outputs": [
    {
     "data": {
      "image/png": "[encoded data removed]",
      "text/plain": [
       "<Figure size 720x432 with 1 Axes>"
      ]
     },
     "metadata": {
      "needs_background": "light"
     },
     "output_type": "display_data"
    }
   ],
   "source": [
    "# Generate a bar plot showing the total number of accidents per day of the week with a different scale for added clarity.\n",
    "\n",
    "fig_size = plt.rcParams[\"figure.figsize\"]\n",
    "fig_size[0] = 10\n",
    "fig_size[1] = 6\n",
    "plot1=plt.subplot(111)\n",
    "Day_of_Week = wday_accidents_df.index.tolist()\n",
    "count = wday_accidents_df['count']\n",
    "plt.ylim(40000,50000)\n",
    "\n",
    "plt.bar(Day_of_Week, count, color='blue')\n",
    "plt.xlabel(\"Day of the week\")\n",
    "plt.ylabel(\"count\")\n",
    "plt.title(\"Number of slow-downs due to accidents per day of the week\")\n",
    "#plt.show()\n",
    "plt.savefig('../Analysis/output/OO_TX_accidents_dayofweekre-scaled_barplot.png')"
   ]
  },
  {
   "cell_type": "markdown",
   "metadata": {},
   "source": [
    "***When we use a different scale in the y axis the difference in number of slow-downs for the weekdays is clearer. Surprisingly, Tuesdays have the highest number of traffic slow downs, but the reasons are not well-understood. Friday comes second in the ranking and this could indicate that our hypothesis is at least partially correct***"
   ]
  },
  {
   "cell_type": "code",
   "execution_count": 36,
   "metadata": {},
   "outputs": [
    {
     "data": {
      "text/plain": [
       "(8009.612903225807, 4004.8064516129034, 4787, 3662.0)"
      ]
     },
     "execution_count": 36,
     "metadata": {},
     "output_type": "execute_result"
    }
   ],
   "source": [
    "#Group dataframe according to day of the month\n",
    "mday_accidents_df=pd.DataFrame((pd.DataFrame(traffic_df.groupby(['day_start']).count())).iloc[:,1])\n",
    "mday_accidents_df.columns=['count']\n",
    "mday_accidents_df.reset_index()\n",
    "mean=mday_accidents_df['count'].mean()\n",
    "mean,mean/2, mday_accidents_df['count'][31],mday_accidents_df['count'][30]/2"
   ]
  },
  {
   "cell_type": "code",
   "execution_count": 37,
   "metadata": {},
   "outputs": [
    {
     "data": {
      "image/png": "[encoded data removed]",
      "text/plain": [
       "<Figure size 720x432 with 1 Axes>"
      ]
     },
     "metadata": {
      "needs_background": "light"
     },
     "output_type": "display_data"
    }
   ],
   "source": [
    "#An attempt to analyze the end of the month effect on traffic delays due to accidents\n",
    "fig_size = plt.rcParams[\"figure.figsize\"]\n",
    "fig_size[0] = 10\n",
    "fig_size[1] = 6\n",
    "plot1=plt.subplot(111)\n",
    "Day_of_Month = mday_accidents_df.index.tolist()\n",
    "count = mday_accidents_df['count']\n",
    "\n",
    "plt.bar(Day_of_Month, count, color='purple')\n",
    "plt.xlabel(\"Day of the month\")\n",
    "plt.ylabel(\"count\")\n",
    "plt.title(\"Number of slow-downs due to accidents per day of the month\")\n",
    "#plt.show()\n",
    "plt.savefig('../Analysis/output/OO_TX_accidents_dayofmonth_barplot.png')"
   ]
  },
  {
   "cell_type": "markdown",
   "metadata": {},
   "source": [
    "***This graph suggests that most days of the calendar month have similar number of slow-downs due to accidents. Four months of the year have 30 days and seven months have 31 days, February has either 28 or 29 days. It is not very clear that the end of the month, a common payday, has a strong effect on the number of slow-downs due to accidents. The average of slow-downs due to accidents is not greater on a 30th day than any other day of the month, although the average number of slow-downs on the 31st could be (comparatively) greater than any other day of the month if we double the count observed***"
   ]
  },
  {
   "cell_type": "code",
   "execution_count": 26,
   "metadata": {},
   "outputs": [
    {
     "data": {
      "text/html": [
       "<div>\n",
       "<style scoped>\n",
       "    .dataframe tbody tr th:only-of-type {\n",
       "        vertical-align: middle;\n",
       "    }\n",
       "\n",
       "    .dataframe tbody tr th {\n",
       "        vertical-align: top;\n",
       "    }\n",
       "\n",
       "    .dataframe thead th {\n",
       "        text-align: right;\n",
       "    }\n",
       "</style>\n",
       "<table border=\"1\" class=\"dataframe\">\n",
       "  <thead>\n",
       "    <tr style=\"text-align: right;\">\n",
       "      <th></th>\n",
       "      <th>ID</th>\n",
       "      <th>Source</th>\n",
       "      <th>TMC</th>\n",
       "      <th>Severity</th>\n",
       "      <th>Start_Time</th>\n",
       "      <th>End_Time</th>\n",
       "      <th>Start_Lat</th>\n",
       "      <th>Start_Lng</th>\n",
       "      <th>End_Lat</th>\n",
       "      <th>End_Lng</th>\n",
       "      <th>...</th>\n",
       "      <th>m_start</th>\n",
       "      <th>m_end</th>\n",
       "      <th>s_start</th>\n",
       "      <th>s_end</th>\n",
       "      <th>sec_start</th>\n",
       "      <th>sec_end</th>\n",
       "      <th>duration</th>\n",
       "      <th>season_start</th>\n",
       "      <th>season_end</th>\n",
       "      <th>day_of_week</th>\n",
       "    </tr>\n",
       "  </thead>\n",
       "  <tbody>\n",
       "    <tr>\n",
       "      <th>0</th>\n",
       "      <td>A-1</td>\n",
       "      <td>MapQuest</td>\n",
       "      <td>201.0</td>\n",
       "      <td>3</td>\n",
       "      <td>2016-02-08 05:46:00</td>\n",
       "      <td>2016-02-08 11:00:00</td>\n",
       "      <td>39.865147</td>\n",
       "      <td>-84.058723</td>\n",
       "      <td>NaN</td>\n",
       "      <td>NaN</td>\n",
       "      <td>...</td>\n",
       "      <td>46</td>\n",
       "      <td>0</td>\n",
       "      <td>0</td>\n",
       "      <td>0</td>\n",
       "      <td>20760</td>\n",
       "      <td>39600</td>\n",
       "      <td>18840</td>\n",
       "      <td>winter</td>\n",
       "      <td>2</td>\n",
       "      <td>Monday</td>\n",
       "    </tr>\n",
       "    <tr>\n",
       "      <th>1</th>\n",
       "      <td>A-2</td>\n",
       "      <td>MapQuest</td>\n",
       "      <td>201.0</td>\n",
       "      <td>2</td>\n",
       "      <td>2016-02-08 06:07:59</td>\n",
       "      <td>2016-02-08 06:37:59</td>\n",
       "      <td>39.928059</td>\n",
       "      <td>-82.831184</td>\n",
       "      <td>NaN</td>\n",
       "      <td>NaN</td>\n",
       "      <td>...</td>\n",
       "      <td>7</td>\n",
       "      <td>37</td>\n",
       "      <td>59</td>\n",
       "      <td>59</td>\n",
       "      <td>22079</td>\n",
       "      <td>23879</td>\n",
       "      <td>1800</td>\n",
       "      <td>winter</td>\n",
       "      <td>2</td>\n",
       "      <td>Monday</td>\n",
       "    </tr>\n",
       "    <tr>\n",
       "      <th>2</th>\n",
       "      <td>A-3</td>\n",
       "      <td>MapQuest</td>\n",
       "      <td>201.0</td>\n",
       "      <td>2</td>\n",
       "      <td>2016-02-08 06:49:27</td>\n",
       "      <td>2016-02-08 07:19:27</td>\n",
       "      <td>39.063148</td>\n",
       "      <td>-84.032608</td>\n",
       "      <td>NaN</td>\n",
       "      <td>NaN</td>\n",
       "      <td>...</td>\n",
       "      <td>49</td>\n",
       "      <td>19</td>\n",
       "      <td>27</td>\n",
       "      <td>27</td>\n",
       "      <td>24567</td>\n",
       "      <td>26367</td>\n",
       "      <td>1800</td>\n",
       "      <td>winter</td>\n",
       "      <td>2</td>\n",
       "      <td>Monday</td>\n",
       "    </tr>\n",
       "    <tr>\n",
       "      <th>3</th>\n",
       "      <td>A-4</td>\n",
       "      <td>MapQuest</td>\n",
       "      <td>201.0</td>\n",
       "      <td>3</td>\n",
       "      <td>2016-02-08 07:23:34</td>\n",
       "      <td>2016-02-08 07:53:34</td>\n",
       "      <td>39.747753</td>\n",
       "      <td>-84.205582</td>\n",
       "      <td>NaN</td>\n",
       "      <td>NaN</td>\n",
       "      <td>...</td>\n",
       "      <td>23</td>\n",
       "      <td>53</td>\n",
       "      <td>34</td>\n",
       "      <td>34</td>\n",
       "      <td>26614</td>\n",
       "      <td>28414</td>\n",
       "      <td>1800</td>\n",
       "      <td>winter</td>\n",
       "      <td>2</td>\n",
       "      <td>Monday</td>\n",
       "    </tr>\n",
       "    <tr>\n",
       "      <th>4</th>\n",
       "      <td>A-5</td>\n",
       "      <td>MapQuest</td>\n",
       "      <td>201.0</td>\n",
       "      <td>2</td>\n",
       "      <td>2016-02-08 07:39:07</td>\n",
       "      <td>2016-02-08 08:09:07</td>\n",
       "      <td>39.627781</td>\n",
       "      <td>-84.188354</td>\n",
       "      <td>NaN</td>\n",
       "      <td>NaN</td>\n",
       "      <td>...</td>\n",
       "      <td>39</td>\n",
       "      <td>9</td>\n",
       "      <td>7</td>\n",
       "      <td>7</td>\n",
       "      <td>27547</td>\n",
       "      <td>29347</td>\n",
       "      <td>1800</td>\n",
       "      <td>winter</td>\n",
       "      <td>2</td>\n",
       "      <td>Monday</td>\n",
       "    </tr>\n",
       "  </tbody>\n",
       "</table>\n",
       "<p>5 rows × 73 columns</p>\n",
       "</div>"
      ],
      "text/plain": [
       "    ID    Source    TMC  Severity           Start_Time             End_Time  \\\n",
       "0  A-1  MapQuest  201.0         3  2016-02-08 05:46:00  2016-02-08 11:00:00   \n",
       "1  A-2  MapQuest  201.0         2  2016-02-08 06:07:59  2016-02-08 06:37:59   \n",
       "2  A-3  MapQuest  201.0         2  2016-02-08 06:49:27  2016-02-08 07:19:27   \n",
       "3  A-4  MapQuest  201.0         3  2016-02-08 07:23:34  2016-02-08 07:53:34   \n",
       "4  A-5  MapQuest  201.0         2  2016-02-08 07:39:07  2016-02-08 08:09:07   \n",
       "\n",
       "   Start_Lat  Start_Lng  End_Lat  End_Lng  ...  m_start m_end  s_start s_end  \\\n",
       "0  39.865147 -84.058723      NaN      NaN  ...       46     0        0     0   \n",
       "1  39.928059 -82.831184      NaN      NaN  ...        7    37       59    59   \n",
       "2  39.063148 -84.032608      NaN      NaN  ...       49    19       27    27   \n",
       "3  39.747753 -84.205582      NaN      NaN  ...       23    53       34    34   \n",
       "4  39.627781 -84.188354      NaN      NaN  ...       39     9        7     7   \n",
       "\n",
       "  sec_start sec_end duration season_start season_end day_of_week  \n",
       "0     20760   39600    18840       winter          2      Monday  \n",
       "1     22079   23879     1800       winter          2      Monday  \n",
       "2     24567   26367     1800       winter          2      Monday  \n",
       "3     26614   28414     1800       winter          2      Monday  \n",
       "4     27547   29347     1800       winter          2      Monday  \n",
       "\n",
       "[5 rows x 73 columns]"
      ]
     },
     "execution_count": 26,
     "metadata": {},
     "output_type": "execute_result"
    }
   ],
   "source": [
    "#display header of current dataframe\n",
    "traffic_df.head(5)"
   ]
  },
  {
   "cell_type": "code",
   "execution_count": 24,
   "metadata": {},
   "outputs": [],
   "source": [
    "#write out the file to a csv to share within the group\n",
    "traffic_df.to_csv('outAll.csv', index=False)"
   ]
  },
  {
   "cell_type": "code",
   "execution_count": null,
   "metadata": {},
   "outputs": [],
   "source": []
  }
 ],
 "metadata": {
  "kernelspec": {
   "display_name": "Python 3",
   "language": "python",
   "name": "python3"
  },
  "language_info": {
   "codemirror_mode": {
    "name": "ipython",
    "version": 3
   },
   "file_extension": ".py",
   "mimetype": "text/x-python",
   "name": "python",
   "nbconvert_exporter": "python",
   "pygments_lexer": "ipython3",
   "version": "3.8.3"
  }
 },
 "nbformat": 4,
 "nbformat_minor": 4
}
