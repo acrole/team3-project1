{
 "cells": [
  {
   "cell_type": "markdown",
   "metadata": {},
   "source": [
    "**First Part: Reading the file**"
   ]
  },
  {
   "cell_type": "code",
   "execution_count": 1,
   "metadata": {},
   "outputs": [],
   "source": [
    "import pandas as pd\n",
    "import csv\n",
    "\n",
    "path=\"C://Users//oorte//Documents//RICE-CLASS-MATERIAL//team3//US_Accidents_June20.csv\"\n",
    "traffic_df = pd.read_csv(path)"
   ]
  },
  {
   "cell_type": "code",
   "execution_count": null,
   "metadata": {},
   "outputs": [],
   "source": [
    "#traffic_df"
   ]
  },
  {
   "cell_type": "markdown",
   "metadata": {},
   "source": [
    "**Manipulating the Accident date/time strings to prepare them for operations**"
   ]
  },
  {
   "cell_type": "code",
   "execution_count": 219,
   "metadata": {},
   "outputs": [],
   "source": [
    "#import Dependencies\n",
    "import time \n",
    "import datetime\n",
    "import numpy as np\n",
    "from datetime import date"
   ]
  },
  {
   "cell_type": "code",
   "execution_count": 220,
   "metadata": {},
   "outputs": [],
   "source": [
    "#print(seasons(2016))"
   ]
  },
  {
   "cell_type": "markdown",
   "metadata": {},
   "source": [
    "**Separates the time/date string in its components**"
   ]
  },
  {
   "cell_type": "code",
   "execution_count": 221,
   "metadata": {},
   "outputs": [],
   "source": [
    "# Read strings representing Start and End of accident\n",
    "date_start=traffic_df[\"Start_Time\"].str.split(expand=True)\n",
    "date_end=traffic_df[\"End_Time\"].str.split(expand=True)"
   ]
  },
  {
   "cell_type": "code",
   "execution_count": 222,
   "metadata": {},
   "outputs": [],
   "source": [
    "#Gets the year only and turns it into a number\n",
    "s=date_start[0].str[:4]\n",
    "t=date_start[0].str[:4]\n",
    "traffic_df['year_start']=pd.to_numeric(s, downcast='unsigned')\n",
    "traffic_df['year_end']=pd.to_numeric(t, downcast='unsigned')"
   ]
  },
  {
   "cell_type": "code",
   "execution_count": 223,
   "metadata": {},
   "outputs": [],
   "source": [
    "#Gets the month only and turns it into a number\n",
    "u=date_start[0].str[5:7]\n",
    "v=date_end[0].str[5:7]\n",
    "traffic_df['month_start']=pd.to_numeric(u, downcast='unsigned')\n",
    "traffic_df['month_end']=pd.to_numeric(v, downcast='unsigned')"
   ]
  },
  {
   "cell_type": "code",
   "execution_count": 224,
   "metadata": {},
   "outputs": [],
   "source": [
    "#Gets the day only and turns it into a number\n",
    "w=date_start[0].str[8:10]\n",
    "x=date_end[0].str[8:10]\n",
    "traffic_df['day_start']=pd.to_numeric(w, downcast='unsigned')\n",
    "traffic_df['day_end']=pd.to_numeric(x, downcast='unsigned')"
   ]
  },
  {
   "cell_type": "code",
   "execution_count": 242,
   "metadata": {},
   "outputs": [],
   "source": [
    "#Get the time\n",
    "traffic_df['time_start']=date_start[0].str[8:10]\n",
    "traffic_df['time_end']=date_end[0].str[8:10]\n",
    "nrows=len(traffic_df)"
   ]
  },
  {
   "cell_type": "markdown",
   "metadata": {},
   "source": [
    "**Determine season in which accident occurred**"
   ]
  },
  {
   "cell_type": "code",
   "execution_count": 243,
   "metadata": {},
   "outputs": [],
   "source": [
    "#Seasons definitions independent of leap year\n",
    "\n",
    "def seasons(Y):\n",
    "    w1s = datetime.datetime(Y, 1, 1, 0,0,0)\n",
    "    w1e= datetime.datetime(Y, 3, 20, 11,59,59)\n",
    "    sps = datetime.datetime(Y, 3, 21, 0,0,0)\n",
    "    spe= datetime.datetime(Y, 6, 20, 11,59,59)\n",
    "    sus = datetime.datetime(Y, 6, 21, 0,0,0)\n",
    "    sue= datetime.datetime(Y, 9, 20, 11,59,59)\n",
    "    fas = datetime.datetime(Y, 9, 21, 0,0,0)\n",
    "    fae= datetime.datetime(Y, 12, 20, 11,59,59)\n",
    "    w2s = datetime.datetime(Y, 1, 1, 0,0,0)\n",
    "    w2e= datetime.datetime(Y, 3, 20, 11,59,59)\n",
    "    limits=[w1s,w1e,sps,spe,sus,sue,fas,fae,w2s,w2e]\n",
    "    return limits"
   ]
  },
  {
   "cell_type": "code",
   "execution_count": 244,
   "metadata": {},
   "outputs": [],
   "source": [
    "#Y=2016\n",
    "df1=traffic_df\n",
    "#df1"
   ]
  },
  {
   "cell_type": "code",
   "execution_count": 246,
   "metadata": {},
   "outputs": [],
   "source": [
    "\n",
    "Ys=traffic_df['year_start'].unique()\n",
    "Ys.sort()\n",
    "years=Ys.size\n"
   ]
  },
  {
   "cell_type": "code",
   "execution_count": 247,
   "metadata": {},
   "outputs": [],
   "source": [
    "df1=pd.DataFrame(df1,columns=['date_time_obj1',\n",
    "                              'date_time_obj2','TStamp_Start',\n",
    "                              'TStamp_End','Season'])\n"
   ]
  },
  {
   "cell_type": "code",
   "execution_count": 253,
   "metadata": {},
   "outputs": [
    {
     "data": {
      "text/html": [
       "<div>\n",
       "<style scoped>\n",
       "    .dataframe tbody tr th:only-of-type {\n",
       "        vertical-align: middle;\n",
       "    }\n",
       "\n",
       "    .dataframe tbody tr th {\n",
       "        vertical-align: top;\n",
       "    }\n",
       "\n",
       "    .dataframe thead th {\n",
       "        text-align: right;\n",
       "    }\n",
       "</style>\n",
       "<table border=\"1\" class=\"dataframe\">\n",
       "  <thead>\n",
       "    <tr style=\"text-align: right;\">\n",
       "      <th></th>\n",
       "      <th>date_time_obj1</th>\n",
       "      <th>date_time_obj2</th>\n",
       "      <th>TStamp_Start</th>\n",
       "      <th>TStamp_End</th>\n",
       "      <th>Season</th>\n",
       "    </tr>\n",
       "  </thead>\n",
       "  <tbody>\n",
       "    <tr>\n",
       "      <th>0</th>\n",
       "      <td>2016-02-08 05:46:00</td>\n",
       "      <td>2016-02-08 11:00:00</td>\n",
       "      <td>1.474480e+09</td>\n",
       "      <td>1.474482e+09</td>\n",
       "      <td>winter</td>\n",
       "    </tr>\n",
       "    <tr>\n",
       "      <th>1</th>\n",
       "      <td>2016-02-08 06:07:59</td>\n",
       "      <td>2016-02-08 06:37:59</td>\n",
       "      <td>1.474480e+09</td>\n",
       "      <td>1.474482e+09</td>\n",
       "      <td>winter</td>\n",
       "    </tr>\n",
       "    <tr>\n",
       "      <th>2</th>\n",
       "      <td>2016-02-08 06:49:27</td>\n",
       "      <td>2016-02-08 07:19:27</td>\n",
       "      <td>1.474480e+09</td>\n",
       "      <td>1.474482e+09</td>\n",
       "      <td>winter</td>\n",
       "    </tr>\n",
       "    <tr>\n",
       "      <th>3</th>\n",
       "      <td>2016-02-08 07:23:34</td>\n",
       "      <td>2016-02-08 07:53:34</td>\n",
       "      <td>1.474480e+09</td>\n",
       "      <td>1.474482e+09</td>\n",
       "      <td>winter</td>\n",
       "    </tr>\n",
       "    <tr>\n",
       "      <th>4</th>\n",
       "      <td>2016-02-08 07:39:07</td>\n",
       "      <td>2016-02-08 08:09:07</td>\n",
       "      <td>1.474480e+09</td>\n",
       "      <td>1.474482e+09</td>\n",
       "      <td>winter</td>\n",
       "    </tr>\n",
       "    <tr>\n",
       "      <th>...</th>\n",
       "      <td>...</td>\n",
       "      <td>...</td>\n",
       "      <td>...</td>\n",
       "      <td>...</td>\n",
       "      <td>...</td>\n",
       "    </tr>\n",
       "    <tr>\n",
       "      <th>3513612</th>\n",
       "      <td>NaN</td>\n",
       "      <td>NaN</td>\n",
       "      <td>NaN</td>\n",
       "      <td>NaN</td>\n",
       "      <td>NaN</td>\n",
       "    </tr>\n",
       "    <tr>\n",
       "      <th>3513613</th>\n",
       "      <td>NaN</td>\n",
       "      <td>NaN</td>\n",
       "      <td>NaN</td>\n",
       "      <td>NaN</td>\n",
       "      <td>NaN</td>\n",
       "    </tr>\n",
       "    <tr>\n",
       "      <th>3513614</th>\n",
       "      <td>NaN</td>\n",
       "      <td>NaN</td>\n",
       "      <td>NaN</td>\n",
       "      <td>NaN</td>\n",
       "      <td>NaN</td>\n",
       "    </tr>\n",
       "    <tr>\n",
       "      <th>3513615</th>\n",
       "      <td>NaN</td>\n",
       "      <td>NaN</td>\n",
       "      <td>NaN</td>\n",
       "      <td>NaN</td>\n",
       "      <td>NaN</td>\n",
       "    </tr>\n",
       "    <tr>\n",
       "      <th>3513616</th>\n",
       "      <td>NaN</td>\n",
       "      <td>NaN</td>\n",
       "      <td>NaN</td>\n",
       "      <td>NaN</td>\n",
       "      <td>NaN</td>\n",
       "    </tr>\n",
       "  </tbody>\n",
       "</table>\n",
       "<p>3513617 rows × 5 columns</p>\n",
       "</div>"
      ],
      "text/plain": [
       "              date_time_obj1       date_time_obj2  TStamp_Start    TStamp_End  \\\n",
       "0        2016-02-08 05:46:00  2016-02-08 11:00:00  1.474480e+09  1.474482e+09   \n",
       "1        2016-02-08 06:07:59  2016-02-08 06:37:59  1.474480e+09  1.474482e+09   \n",
       "2        2016-02-08 06:49:27  2016-02-08 07:19:27  1.474480e+09  1.474482e+09   \n",
       "3        2016-02-08 07:23:34  2016-02-08 07:53:34  1.474480e+09  1.474482e+09   \n",
       "4        2016-02-08 07:39:07  2016-02-08 08:09:07  1.474480e+09  1.474482e+09   \n",
       "...                      ...                  ...           ...           ...   \n",
       "3513612                  NaN                  NaN           NaN           NaN   \n",
       "3513613                  NaN                  NaN           NaN           NaN   \n",
       "3513614                  NaN                  NaN           NaN           NaN   \n",
       "3513615                  NaN                  NaN           NaN           NaN   \n",
       "3513616                  NaN                  NaN           NaN           NaN   \n",
       "\n",
       "         Season  \n",
       "0        winter  \n",
       "1        winter  \n",
       "2        winter  \n",
       "3        winter  \n",
       "4        winter  \n",
       "...         ...  \n",
       "3513612     NaN  \n",
       "3513613     NaN  \n",
       "3513614     NaN  \n",
       "3513615     NaN  \n",
       "3513616     NaN  \n",
       "\n",
       "[3513617 rows x 5 columns]"
      ]
     },
     "execution_count": 253,
     "metadata": {},
     "output_type": "execute_result"
    }
   ],
   "source": [
    "for j in range(years):\n",
    "    Y=Ys[j]\n",
    "\n",
    "    for i in range(10):\n",
    "\n",
    "        string1 = traffic_df[\"Start_Time\"][i]\n",
    "        string2= traffic_df[\"End_Time\"][i]\n",
    "        df1.iloc[i,0] = datetime.datetime.strptime(string1, '%Y-%m-%d %H:%M:%S')\n",
    "        df1.iloc[i,1]= datetime.datetime.strptime(string2, '%Y-%m-%d %H:%M:%S')\n",
    "        df1.iloc[i,2]= datetime.datetime.timestamp(date_time_obj1)\n",
    "        df1.iloc[i,3]= datetime.datetime.timestamp(date_time_obj2)\n",
    "\n",
    "        if seasons(Y)[0] < df1.iloc[i,0] and df1.iloc[i,0] < seasons(Y)[1]:\n",
    "            df1.iloc[i,4]='winter'\n",
    "        elif seasons(Y)[2] < date_time_obj1 and date_time_obj1 < seasons(Y)[3]:\n",
    "            df1.iloc[i,4]='spring'\n",
    "        elif seasons(Y)[4] < date_time_obj1 and date_time_obj1 < seasons(Y)[5]:\n",
    "            df1.iloc[i,4]='summer'\n",
    "        elif seasons(Y)[6] < date_time_obj1 and date_time_obj1 < seasons(Y)[7]:\n",
    "            df1.iloc[i,4]='fall'\n",
    "        elif seasons(Y)[8] < date_time_obj1 and date_time_obj1 < seasons(Y)[9]:\n",
    "            df1.iloc[i,4]='winter'\n",
    "\n",
    "df1"
   ]
  },
  {
   "cell_type": "markdown",
   "metadata": {},
   "source": [
    "**Calculate Accident duration**"
   ]
  },
  {
   "cell_type": "code",
   "execution_count": null,
   "metadata": {},
   "outputs": [],
   "source": [
    "#This calculates the time in seconds until the accident was cleared\n",
    "df1['Duration']= df1['date_time_obj2']-df1['date_time_obj1']\n",
    "df1['Duration']\n"
   ]
  },
  {
   "cell_type": "code",
   "execution_count": null,
   "metadata": {},
   "outputs": [],
   "source": []
  },
  {
   "cell_type": "code",
   "execution_count": null,
   "metadata": {},
   "outputs": [],
   "source": [
    "# testing the backwards conversion to date :-)\n",
    "#     dt_object= datetime.datetime.fromtimestamp(a)\n",
    "#dt_object_time= time.fromtimestamp(a)\n",
    "#     dt_object"
   ]
  },
  {
   "cell_type": "code",
   "execution_count": null,
   "metadata": {},
   "outputs": [],
   "source": []
  }
 ],
 "metadata": {
  "kernelspec": {
   "display_name": "Python 3",
   "language": "python",
   "name": "python3"
  },
  "language_info": {
   "codemirror_mode": {
    "name": "ipython",
    "version": 3
   },
   "file_extension": ".py",
   "mimetype": "text/x-python",
   "name": "python",
   "nbconvert_exporter": "python",
   "pygments_lexer": "ipython3",
   "version": "3.8.3"
  }
 },
 "nbformat": 4,
 "nbformat_minor": 4
}
