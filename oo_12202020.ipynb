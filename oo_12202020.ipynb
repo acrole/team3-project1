{
 "cells": [
  {
   "cell_type": "code",
   "execution_count": 11,
   "metadata": {},
   "outputs": [],
   "source": [
    "import pandas as pd\n",
    "import csv\n",
    "\n",
    "path=\"C://Users//oorte//Documents//RICE-CLASS-MATERIAL//team3//YK_TX2017-19_Accidents.csv\"\n",
    "traffic_df = pd.read_csv(path)"
   ]
  },
  {
   "cell_type": "code",
   "execution_count": 70,
   "metadata": {},
   "outputs": [],
   "source": [
    "#import Dependencies\n",
    "import time \n",
    "import datetime\n",
    "import numpy as np\n",
    "from datetime import date"
   ]
  },
  {
   "cell_type": "code",
   "execution_count": 71,
   "metadata": {},
   "outputs": [],
   "source": [
    "# Read strings representing Start and End of accident\n",
    "date_start=traffic_df[\"Start_Time\"]\n",
    "date_end=traffic_df[\"End_Time\"]\n"
   ]
  },
  {
   "cell_type": "code",
   "execution_count": 72,
   "metadata": {},
   "outputs": [],
   "source": [
    "traffic_df['start']=pd.DataFrame(pd.to_datetime(date_start, format='%Y-%m-%d %H:%M:%S'))\n",
    "traffic_df['end']=pd.DataFrame(pd.to_datetime(date_end, format='%Y-%m-%d %H:%M:%S'))"
   ]
  },
  {
   "cell_type": "code",
   "execution_count": 78,
   "metadata": {},
   "outputs": [],
   "source": [
    "traffic_df['month'] = pd.DatetimeIndex(traffic_df['start']).month\n",
    "traffic_df['season']=traffic_df['month']"
   ]
  },
  {
   "cell_type": "code",
   "execution_count": 79,
   "metadata": {},
   "outputs": [],
   "source": [
    "traffic_df.loc[traffic_df.season == 1, \"season\"] = \"winter\"\n",
    "traffic_df.loc[traffic_df.season == 2, \"season\"] = \"winter\"\n",
    "traffic_df.loc[traffic_df.season == 12, \"season\"] = \"winter\"\n",
    "traffic_df.loc[traffic_df.season == 3, \"season\"] = \"spring\"\n",
    "traffic_df.loc[traffic_df.season == 4, \"season\"] = \"spring\"\n",
    "traffic_df.loc[traffic_df.season == 5, \"season\"] = \"spring\"\n",
    "traffic_df.loc[traffic_df.season == 6, \"season\"] = \"summer\"\n",
    "traffic_df.loc[traffic_df.season == 7, \"season\"] = \"summer\"\n",
    "traffic_df.loc[traffic_df.season == 8, \"season\"] = \"summer\"\n",
    "traffic_df.loc[traffic_df.season == 9, \"season\"] = \"fall\"\n",
    "traffic_df.loc[traffic_df.season == 10, \"season\"] = \"fall\"\n",
    "traffic_df.loc[traffic_df.season == 11, \"season\"] = \"fall\""
   ]
  },
  {
   "cell_type": "code",
   "execution_count": 94,
   "metadata": {},
   "outputs": [
    {
     "data": {
      "text/html": [
       "<div>\n",
       "<style scoped>\n",
       "    .dataframe tbody tr th:only-of-type {\n",
       "        vertical-align: middle;\n",
       "    }\n",
       "\n",
       "    .dataframe tbody tr th {\n",
       "        vertical-align: top;\n",
       "    }\n",
       "\n",
       "    .dataframe thead th {\n",
       "        text-align: right;\n",
       "    }\n",
       "</style>\n",
       "<table border=\"1\" class=\"dataframe\">\n",
       "  <thead>\n",
       "    <tr style=\"text-align: right;\">\n",
       "      <th></th>\n",
       "      <th>season</th>\n",
       "      <th>count</th>\n",
       "    </tr>\n",
       "  </thead>\n",
       "  <tbody>\n",
       "    <tr>\n",
       "      <th>0</th>\n",
       "      <td>fall</td>\n",
       "      <td>64670</td>\n",
       "    </tr>\n",
       "    <tr>\n",
       "      <th>1</th>\n",
       "      <td>spring</td>\n",
       "      <td>61900</td>\n",
       "    </tr>\n",
       "    <tr>\n",
       "      <th>2</th>\n",
       "      <td>summer</td>\n",
       "      <td>58544</td>\n",
       "    </tr>\n",
       "    <tr>\n",
       "      <th>3</th>\n",
       "      <td>winter</td>\n",
       "      <td>63184</td>\n",
       "    </tr>\n",
       "  </tbody>\n",
       "</table>\n",
       "</div>"
      ],
      "text/plain": [
       "   season  count\n",
       "0    fall  64670\n",
       "1  spring  61900\n",
       "2  summer  58544\n",
       "3  winter  63184"
      ]
     },
     "execution_count": 94,
     "metadata": {},
     "output_type": "execute_result"
    }
   ],
   "source": [
    "seasons_accidents_df=pd.DataFrame((pd.DataFrame(traffic_df.groupby(['season']).count())).iloc[:,1])\n",
    "seasons_accidents_df.columns=['count']\n",
    "seasons_accidents_df.reset_index()"
   ]
  },
  {
   "cell_type": "code",
   "execution_count": 99,
   "metadata": {},
   "outputs": [],
   "source": [
    "import matplotlib.pyplot as plt"
   ]
  },
  {
   "cell_type": "code",
   "execution_count": 130,
   "metadata": {},
   "outputs": [
    {
     "data": {
      "image/png": "[encoded data removed]",
      "text/plain": [
       "<Figure size 432x288 with 1 Axes>"
      ]
     },
     "metadata": {},
     "output_type": "display_data"
    }
   ],
   "source": [
    "# Generate a bar plot showing the total number of accidents per season.\n",
    "\n",
    "fig = plt.figure()\n",
    "ax = fig.add_axes([0,0,1,1])\n",
    "seasons = ['summer', 'winter']\n",
    "count = [seasons_accidents_df['count'][2],seasons_accidents_df['count'][3]]\n",
    "ax.bar(seasons,count)\n",
    "plt.bar(seasons, count, color='green')\n",
    "plt.xlabel(\"Seasons\")\n",
    "plt.ylabel(\"count\")\n",
    "plt.title(\"Number of Accidents per Season\")\n",
    "plt.show()"
   ]
  },
  {
   "cell_type": "code",
   "execution_count": null,
   "metadata": {},
   "outputs": [],
   "source": [
    "|"
   ]
  }
 ],
 "metadata": {
  "kernelspec": {
   "display_name": "Python 3",
   "language": "python",
   "name": "python3"
  },
  "language_info": {
   "codemirror_mode": {
    "name": "ipython",
    "version": 3
   },
   "file_extension": ".py",
   "mimetype": "text/x-python",
   "name": "python",
   "nbconvert_exporter": "python",
   "pygments_lexer": "ipython3",
   "version": "3.8.3"
  }
 },
 "nbformat": 4,
 "nbformat_minor": 4
}
